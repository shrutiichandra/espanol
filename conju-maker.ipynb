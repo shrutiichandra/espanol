{
 "cells": [
  {
   "cell_type": "code",
   "execution_count": 1,
   "metadata": {},
   "outputs": [],
   "source": [
    "import spanishconjugator\n",
    "from spanishconjugator.SpanishConjugator import Conjugator\n",
    "import pandas as pd"
   ]
  },
  {
   "cell_type": "code",
   "execution_count": 2,
   "metadata": {},
   "outputs": [
    {
     "name": "stdout",
     "output_type": "stream",
     "text": [
      "{'el/ella/usted': 'encende', 'ellos/ellas/ustedes': 'encenden', 'tu': 'encendes', 'vosotros': 'encendÃ©is', 'yo': 'encendo', 'nosotros': 'encendemos'}\n"
     ]
    }
   ],
   "source": [
    "print(Conjugator().conjugate('encender','present','indicative'))"
   ]
  },
  {
   "cell_type": "code",
   "execution_count": null,
   "metadata": {},
   "outputs": [],
   "source": [
    "a = 'Ã©ramos'"
   ]
  },
  {
   "cell_type": "code",
   "execution_count": null,
   "metadata": {},
   "outputs": [],
   "source": [
    "a.encode('iso8859-15')"
   ]
  },
  {
   "cell_type": "code",
   "execution_count": null,
   "metadata": {},
   "outputs": [],
   "source": [
    "a.encode('iso8859-15').decode('utf-8')"
   ]
  },
  {
   "cell_type": "code",
   "execution_count": 3,
   "metadata": {},
   "outputs": [
    {
     "data": {
      "text/html": [
       "<div>\n",
       "<style scoped>\n",
       "    .dataframe tbody tr th:only-of-type {\n",
       "        vertical-align: middle;\n",
       "    }\n",
       "\n",
       "    .dataframe tbody tr th {\n",
       "        vertical-align: top;\n",
       "    }\n",
       "\n",
       "    .dataframe thead th {\n",
       "        text-align: right;\n",
       "    }\n",
       "</style>\n",
       "<table border=\"1\" class=\"dataframe\">\n",
       "  <thead>\n",
       "    <tr style=\"text-align: right;\">\n",
       "      <th></th>\n",
       "      <th>root</th>\n",
       "    </tr>\n",
       "  </thead>\n",
       "  <tbody>\n",
       "    <tr>\n",
       "      <th>0</th>\n",
       "      <td>ser</td>\n",
       "    </tr>\n",
       "    <tr>\n",
       "      <th>1</th>\n",
       "      <td>ver</td>\n",
       "    </tr>\n",
       "    <tr>\n",
       "      <th>2</th>\n",
       "      <td>venir</td>\n",
       "    </tr>\n",
       "    <tr>\n",
       "      <th>3</th>\n",
       "      <td>ir</td>\n",
       "    </tr>\n",
       "    <tr>\n",
       "      <th>4</th>\n",
       "      <td>volver</td>\n",
       "    </tr>\n",
       "  </tbody>\n",
       "</table>\n",
       "</div>"
      ],
      "text/plain": [
       "     root\n",
       "0     ser\n",
       "1     ver\n",
       "2   venir\n",
       "3      ir\n",
       "4  volver"
      ]
     },
     "execution_count": 3,
     "metadata": {},
     "output_type": "execute_result"
    }
   ],
   "source": [
    "df = pd.read_csv('roots.csv')\n",
    "df.head()"
   ]
  },
  {
   "cell_type": "code",
   "execution_count": 4,
   "metadata": {},
   "outputs": [],
   "source": [
    "moods = ['indicative']\n",
    "tenses = ['present', 'preterite', 'present_perfect', 'imperfect', 'future', 'past_perfect']"
   ]
  },
  {
   "cell_type": "code",
   "execution_count": 5,
   "metadata": {},
   "outputs": [],
   "source": [
    "for index, row in df.iterrows():\n",
    "    verb = row['root']\n",
    "    for mood in moods:\n",
    "        for tense in tenses:\n",
    "            _dict = Conjugator().conjugate(verb, tense, mood)\n",
    "            try:\n",
    "                df.at[index, '{}_{}_{}'.format(mood, tense, '2p_s')] = _dict['tu'].encode('iso8859-15').decode('utf-8')\n",
    "                df.at[index, '{}_{}_{}'.format(mood, tense, '1p_s')] = _dict['yo'].encode('iso8859-15').decode('utf-8')\n",
    "                df.at[index, '{}_{}_{}'.format(mood, tense, '1p_p')] = _dict['nosotros'].encode('iso8859-15').decode('utf-8')\n",
    "            except:\n",
    "                logging.warning(\"Verb [%s] Mood %s Tense %s in except block\",verb, mood, tense)\n",
    "\n",
    "            \n",
    "            try:\n",
    "                df.at[index, '{}_{}_{}'.format(mood, tense, '3p_s')] = _dict['el/ella/usted'].encode('iso8859-15').decode('utf-8')\n",
    "            except:\n",
    "                logging.warning(\"Verb [%s] Mood %s Tense %s in usted except block\",verb, mood, tense)\n",
    "                df.at[index, '{}_{}_{}'.format(mood, tense, '3p_s')] = _dict['usted'].encode('iso8859-15').decode('utf-8')\n",
    "            try:\n",
    "                df.at[index, '{}_{}_{}'.format(mood, tense, '3p_p')] = _dict['ellos/ellas/ustedes'].encode('iso8859-15').decode('utf-8')\n",
    "            except:\n",
    "                logging.warning(\"Verb [%s] Mood %s Tense %s in ustedes except block\",verb, mood, tense)\n",
    "                df.at[index, '{}_{}_{}'.format(mood, tense, '3p_p')] = _dict['ustedes'].encode('iso8859-15').decode('utf-8')\n",
    "            "
   ]
  },
  {
   "cell_type": "code",
   "execution_count": 6,
   "metadata": {},
   "outputs": [],
   "source": [
    "df.to_csv('verbs-all.csv', encoding='utf-8', index=False)"
   ]
  },
  {
   "cell_type": "code",
   "execution_count": 8,
   "metadata": {},
   "outputs": [
    {
     "data": {
      "text/html": [
       "<div>\n",
       "<style scoped>\n",
       "    .dataframe tbody tr th:only-of-type {\n",
       "        vertical-align: middle;\n",
       "    }\n",
       "\n",
       "    .dataframe tbody tr th {\n",
       "        vertical-align: top;\n",
       "    }\n",
       "\n",
       "    .dataframe thead th {\n",
       "        text-align: right;\n",
       "    }\n",
       "</style>\n",
       "<table border=\"1\" class=\"dataframe\">\n",
       "  <thead>\n",
       "    <tr style=\"text-align: right;\">\n",
       "      <th></th>\n",
       "      <th>root</th>\n",
       "      <th>indicative_present_2p_s</th>\n",
       "      <th>indicative_present_1p_s</th>\n",
       "      <th>indicative_present_1p_p</th>\n",
       "      <th>indicative_present_3p_s</th>\n",
       "      <th>indicative_present_3p_p</th>\n",
       "      <th>indicative_preterite_2p_s</th>\n",
       "      <th>indicative_preterite_1p_s</th>\n",
       "      <th>indicative_preterite_1p_p</th>\n",
       "      <th>indicative_preterite_3p_s</th>\n",
       "      <th>...</th>\n",
       "      <th>indicative_future_2p_s</th>\n",
       "      <th>indicative_future_1p_s</th>\n",
       "      <th>indicative_future_1p_p</th>\n",
       "      <th>indicative_future_3p_s</th>\n",
       "      <th>indicative_future_3p_p</th>\n",
       "      <th>indicative_past_perfect_2p_s</th>\n",
       "      <th>indicative_past_perfect_1p_s</th>\n",
       "      <th>indicative_past_perfect_1p_p</th>\n",
       "      <th>indicative_past_perfect_3p_s</th>\n",
       "      <th>indicative_past_perfect_3p_p</th>\n",
       "    </tr>\n",
       "  </thead>\n",
       "  <tbody>\n",
       "    <tr>\n",
       "      <th>0</th>\n",
       "      <td>ser</td>\n",
       "      <td>eres</td>\n",
       "      <td>soy</td>\n",
       "      <td>somos</td>\n",
       "      <td>es</td>\n",
       "      <td>son</td>\n",
       "      <td>fuiste</td>\n",
       "      <td>fui</td>\n",
       "      <td>fuimos</td>\n",
       "      <td>fue</td>\n",
       "      <td>...</td>\n",
       "      <td>serás</td>\n",
       "      <td>seré</td>\n",
       "      <td>seremos</td>\n",
       "      <td>será</td>\n",
       "      <td>serán</td>\n",
       "      <td>habías sido</td>\n",
       "      <td>había sido</td>\n",
       "      <td>habíamos sido</td>\n",
       "      <td>había sido</td>\n",
       "      <td>habían sido</td>\n",
       "    </tr>\n",
       "    <tr>\n",
       "      <th>1</th>\n",
       "      <td>ver</td>\n",
       "      <td>ves</td>\n",
       "      <td>veo</td>\n",
       "      <td>vemos</td>\n",
       "      <td>ve</td>\n",
       "      <td>ven</td>\n",
       "      <td>viste</td>\n",
       "      <td>vi</td>\n",
       "      <td>vimos</td>\n",
       "      <td>vio</td>\n",
       "      <td>...</td>\n",
       "      <td>verás</td>\n",
       "      <td>veré</td>\n",
       "      <td>veremos</td>\n",
       "      <td>verá</td>\n",
       "      <td>verán</td>\n",
       "      <td>habías visto</td>\n",
       "      <td>había visto</td>\n",
       "      <td>habíamos visto</td>\n",
       "      <td>había visto</td>\n",
       "      <td>habían visto</td>\n",
       "    </tr>\n",
       "    <tr>\n",
       "      <th>2</th>\n",
       "      <td>venir</td>\n",
       "      <td>vienes</td>\n",
       "      <td>vengo</td>\n",
       "      <td>venimos</td>\n",
       "      <td>viene</td>\n",
       "      <td>vienen</td>\n",
       "      <td>viniste</td>\n",
       "      <td>vine</td>\n",
       "      <td>vinimos</td>\n",
       "      <td>vino</td>\n",
       "      <td>...</td>\n",
       "      <td>vendrás</td>\n",
       "      <td>vendré</td>\n",
       "      <td>vendremos</td>\n",
       "      <td>vendrá</td>\n",
       "      <td>vendrán</td>\n",
       "      <td>habías venido</td>\n",
       "      <td>había venido</td>\n",
       "      <td>habíamos venido</td>\n",
       "      <td>había venido</td>\n",
       "      <td>habían venido</td>\n",
       "    </tr>\n",
       "  </tbody>\n",
       "</table>\n",
       "<p>3 rows × 31 columns</p>\n",
       "</div>"
      ],
      "text/plain": [
       "    root indicative_present_2p_s indicative_present_1p_s  \\\n",
       "0    ser                    eres                     soy   \n",
       "1    ver                     ves                     veo   \n",
       "2  venir                  vienes                   vengo   \n",
       "\n",
       "  indicative_present_1p_p indicative_present_3p_s indicative_present_3p_p  \\\n",
       "0                   somos                      es                     son   \n",
       "1                   vemos                      ve                     ven   \n",
       "2                 venimos                   viene                  vienen   \n",
       "\n",
       "  indicative_preterite_2p_s indicative_preterite_1p_s  \\\n",
       "0                    fuiste                       fui   \n",
       "1                     viste                        vi   \n",
       "2                   viniste                      vine   \n",
       "\n",
       "  indicative_preterite_1p_p indicative_preterite_3p_s  ...  \\\n",
       "0                    fuimos                       fue  ...   \n",
       "1                     vimos                       vio  ...   \n",
       "2                   vinimos                      vino  ...   \n",
       "\n",
       "  indicative_future_2p_s indicative_future_1p_s indicative_future_1p_p  \\\n",
       "0                  serás                   seré                seremos   \n",
       "1                  verás                   veré                veremos   \n",
       "2                vendrás                 vendré              vendremos   \n",
       "\n",
       "  indicative_future_3p_s indicative_future_3p_p indicative_past_perfect_2p_s  \\\n",
       "0                   será                  serán                  habías sido   \n",
       "1                   verá                  verán                 habías visto   \n",
       "2                 vendrá                vendrán                habías venido   \n",
       "\n",
       "  indicative_past_perfect_1p_s indicative_past_perfect_1p_p  \\\n",
       "0                   había sido                habíamos sido   \n",
       "1                  había visto               habíamos visto   \n",
       "2                 había venido              habíamos venido   \n",
       "\n",
       "  indicative_past_perfect_3p_s indicative_past_perfect_3p_p  \n",
       "0                   había sido                  habían sido  \n",
       "1                  había visto                 habían visto  \n",
       "2                 había venido                habían venido  \n",
       "\n",
       "[3 rows x 31 columns]"
      ]
     },
     "execution_count": 8,
     "metadata": {},
     "output_type": "execute_result"
    }
   ],
   "source": [
    "df_2 = pd.read_csv('verbs-all.csv', engine='python', encoding='utf-8')\n",
    "df_2.head(3)"
   ]
  },
  {
   "cell_type": "code",
   "execution_count": 9,
   "metadata": {},
   "outputs": [
    {
     "data": {
      "text/plain": [
       "root                                         encender\n",
       "indicative_present_2p_s                      encendes\n",
       "indicative_present_1p_s                       encendo\n",
       "indicative_present_1p_p                    encendemos\n",
       "indicative_present_3p_s                       encende\n",
       "indicative_present_3p_p                      encenden\n",
       "indicative_preterite_2p_s                  encendiste\n",
       "indicative_preterite_1p_s                     encendí\n",
       "indicative_preterite_1p_p                  encendimos\n",
       "indicative_preterite_3p_s                    encendió\n",
       "indicative_preterite_3p_p                 encendieron\n",
       "indicative_present_perfect_2p_s         has encendido\n",
       "indicative_present_perfect_1p_s          he encendido\n",
       "indicative_present_perfect_1p_p       hemos encendido\n",
       "indicative_present_perfect_3p_s          ha encendido\n",
       "indicative_present_perfect_3p_p         han encendido\n",
       "indicative_imperfect_2p_s                   encendías\n",
       "indicative_imperfect_1p_s                    encendía\n",
       "indicative_imperfect_1p_p                 encendíamos\n",
       "indicative_imperfect_3p_s                    encendía\n",
       "indicative_imperfect_3p_p                   encendían\n",
       "indicative_future_2p_s                     encenderás\n",
       "indicative_future_1p_s                      encenderé\n",
       "indicative_future_1p_p                   encenderemos\n",
       "indicative_future_3p_s                      encenderá\n",
       "indicative_future_3p_p                     encenderán\n",
       "indicative_past_perfect_2p_s         habías encendido\n",
       "indicative_past_perfect_1p_s          había encendido\n",
       "indicative_past_perfect_1p_p       habíamos encendido\n",
       "indicative_past_perfect_3p_s          había encendido\n",
       "indicative_past_perfect_3p_p         habían encendido\n",
       "Name: 109, dtype: object"
      ]
     },
     "execution_count": 9,
     "metadata": {},
     "output_type": "execute_result"
    }
   ],
   "source": [
    "df_2.iloc[109,]"
   ]
  },
  {
   "cell_type": "code",
   "execution_count": 148,
   "metadata": {},
   "outputs": [],
   "source": [
    "singular = \"singular\"\n",
    "plural = \"plural\"\n",
    "col = [singular, plural]\n",
    "threeP = \"3P\"\n",
    "secondP = \"2P\"\n",
    "firstP = \"1P\"\n",
    "\n",
    "pronouns = [threeP, secondP, firstP]\n"
   ]
  },
  {
   "cell_type": "code",
   "execution_count": 149,
   "metadata": {},
   "outputs": [
    {
     "data": {
      "text/plain": [
       "['singular', 'plural']"
      ]
     },
     "execution_count": 149,
     "metadata": {},
     "output_type": "execute_result"
    }
   ],
   "source": [
    "col"
   ]
  },
  {
   "cell_type": "code",
   "execution_count": 150,
   "metadata": {},
   "outputs": [],
   "source": [
    "list_of_df = []"
   ]
  },
  {
   "cell_type": "code",
   "execution_count": 151,
   "metadata": {},
   "outputs": [],
   "source": [
    "for index, row in df_2.iterrows():\n",
    "    root_name = row['root']\n",
    "    _list = [[df_2[df_2['root'] == row['root']][\"indicative_present_3p_s\"].iloc[0],\n",
    "                df_2[df_2['root'] == row['root']][\"indicative_present_3p_p\"].iloc[0]],\n",
    "            [df_2[df_2['root'] == row['root']][\"indicative_present_2p_s\"].iloc[0],'' ],\n",
    "            [df_2[df_2['root'] == row['root']][\"indicative_present_1p_s\"].iloc[0],\n",
    "                df_2[df_2['root'] == row['root']][\"indicative_present_1p_p\"].iloc[0]]\n",
    "            ]\n",
    "    conj_df = pd.DataFrame(_list, columns=col, index=pronouns)\n",
    "    conj_df.columns = pd.MultiIndex.from_tuples(zip([root_name, '', ''],  conj_df.columns))\n",
    "    list_of_df.append(conj_df)\n"
   ]
  },
  {
   "cell_type": "code",
   "execution_count": 152,
   "metadata": {},
   "outputs": [
    {
     "data": {
      "text/html": [
       "<div>\n",
       "<style scoped>\n",
       "    .dataframe tbody tr th:only-of-type {\n",
       "        vertical-align: middle;\n",
       "    }\n",
       "\n",
       "    .dataframe tbody tr th {\n",
       "        vertical-align: top;\n",
       "    }\n",
       "\n",
       "    .dataframe thead tr th {\n",
       "        text-align: left;\n",
       "    }\n",
       "</style>\n",
       "<table border=\"1\" class=\"dataframe\">\n",
       "  <thead>\n",
       "    <tr>\n",
       "      <th></th>\n",
       "      <th>reformar</th>\n",
       "      <th></th>\n",
       "    </tr>\n",
       "    <tr>\n",
       "      <th></th>\n",
       "      <th>singular</th>\n",
       "      <th>plural</th>\n",
       "    </tr>\n",
       "  </thead>\n",
       "  <tbody>\n",
       "    <tr>\n",
       "      <th>3P</th>\n",
       "      <td>reforma</td>\n",
       "      <td>reforman</td>\n",
       "    </tr>\n",
       "    <tr>\n",
       "      <th>2P</th>\n",
       "      <td>reformas</td>\n",
       "      <td></td>\n",
       "    </tr>\n",
       "    <tr>\n",
       "      <th>1P</th>\n",
       "      <td>reformo</td>\n",
       "      <td>reformamos</td>\n",
       "    </tr>\n",
       "  </tbody>\n",
       "</table>\n",
       "</div>"
      ],
      "text/plain": [
       "    reformar            \n",
       "    singular      plural\n",
       "3P   reforma    reforman\n",
       "2P  reformas            \n",
       "1P   reformo  reformamos"
      ]
     },
     "execution_count": 152,
     "metadata": {},
     "output_type": "execute_result"
    }
   ],
   "source": [
    "conj_df"
   ]
  },
  {
   "cell_type": "code",
   "execution_count": 177,
   "metadata": {},
   "outputs": [],
   "source": [
    "filename=\"list_of_df.txt\"\n",
    "with open(filename, 'w') as file:\n",
    "    for item in list_of_df:\n",
    "        file.write(str(item.replace(\" \", \"|\")) + '\\n')"
   ]
  },
  {
   "cell_type": "code",
   "execution_count": 204,
   "metadata": {},
   "outputs": [],
   "source": [
    "output_file = \"modified.md\"\n",
    "lineno=0\n",
    "output_str = \"\"\n",
    "with open(filename, 'r') as file,  open(output_file, 'w') as output_file:\n",
    "    # Iterate over each line in the file\n",
    "    for line in file:\n",
    "        trimmed_line = ' '.join(line.split()).replace(\" \", \"|\")\n",
    "        # print (trimmed_line.split())\n",
    "        if (len(trimmed_line.split()) == 1 and \"|\" not in trimmed_line):\n",
    "            #it is the root verb line\n",
    "            #    |ser|       |   |\n",
    "            modified_line = \"|\" + trimmed_line + \"|||\\n\"\n",
    "            if (lineno == 0):\n",
    "                modified_line += \"| ------------- |:-------------:|:-------------:|\\n\"\n",
    "            lineno += 1\n",
    "        elif (secondP in trimmed_line):\n",
    "            #|2P.  |eres.   |.    |\n",
    "            modified_line = \"|\" + trimmed_line + \"||\\n\"\n",
    "        else:\n",
    "            modified_line = \"|\" + trimmed_line + \"|\\n\"\n",
    "\n",
    "        if (singular in trimmed_line):\n",
    "        #|    |singular|plural|\n",
    "            modified_line = \"||\" + trimmed_line + \"|\\n\"\n",
    "        output_str += modified_line\n",
    "    output_file.write(output_str)\n"
   ]
  }
 ],
 "metadata": {
  "kernelspec": {
   "display_name": "Python 3",
   "language": "python",
   "name": "python3"
  },
  "language_info": {
   "codemirror_mode": {
    "name": "ipython",
    "version": 3
   },
   "file_extension": ".py",
   "mimetype": "text/x-python",
   "name": "python",
   "nbconvert_exporter": "python",
   "pygments_lexer": "ipython3",
   "version": "3.9.6"
  }
 },
 "nbformat": 4,
 "nbformat_minor": 4
}
