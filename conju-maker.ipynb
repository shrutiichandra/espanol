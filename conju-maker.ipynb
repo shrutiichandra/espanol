{
 "cells": [
  {
   "cell_type": "code",
   "execution_count": 1,
   "metadata": {},
   "outputs": [
    {
     "ename": "ModuleNotFoundError",
     "evalue": "No module named 'spanishconjugator'",
     "output_type": "error",
     "traceback": [
      "\u001b[1;31m---------------------------------------------------------------------------\u001b[0m",
      "\u001b[1;31mModuleNotFoundError\u001b[0m                       Traceback (most recent call last)",
      "\u001b[1;32m<ipython-input-1-b80cfd7a488a>\u001b[0m in \u001b[0;36m<module>\u001b[1;34m\u001b[0m\n\u001b[1;32m----> 1\u001b[1;33m \u001b[1;32mimport\u001b[0m \u001b[0mspanishconjugator\u001b[0m\u001b[1;33m\u001b[0m\u001b[1;33m\u001b[0m\u001b[0m\n\u001b[0m\u001b[0;32m      2\u001b[0m \u001b[1;32mfrom\u001b[0m \u001b[0mspanishconjugator\u001b[0m\u001b[1;33m.\u001b[0m\u001b[0mSpanishConjugator\u001b[0m \u001b[1;32mimport\u001b[0m \u001b[0mConjugator\u001b[0m\u001b[1;33m\u001b[0m\u001b[1;33m\u001b[0m\u001b[0m\n\u001b[0;32m      3\u001b[0m \u001b[1;32mimport\u001b[0m \u001b[0mpandas\u001b[0m \u001b[1;32mas\u001b[0m \u001b[0mpd\u001b[0m\u001b[1;33m\u001b[0m\u001b[1;33m\u001b[0m\u001b[0m\n",
      "\u001b[1;31mModuleNotFoundError\u001b[0m: No module named 'spanishconjugator'"
     ]
    }
   ],
   "source": [
    "import spanishconjugator\n",
    "from spanishconjugator.SpanishConjugator import Conjugator\n",
    "import pandas as pd"
   ]
  },
  {
   "cell_type": "code",
   "execution_count": null,
   "metadata": {},
   "outputs": [],
   "source": [
    "print(Conjugator().conjugate('encender','present','indicative'))"
   ]
  },
  {
   "cell_type": "code",
   "execution_count": null,
   "metadata": {},
   "outputs": [],
   "source": [
    "a = 'Ã©ramos'"
   ]
  },
  {
   "cell_type": "code",
   "execution_count": null,
   "metadata": {},
   "outputs": [],
   "source": [
    "a.encode('iso8859-15')"
   ]
  },
  {
   "cell_type": "code",
   "execution_count": null,
   "metadata": {},
   "outputs": [],
   "source": [
    "a.encode('iso8859-15').decode('utf-8')"
   ]
  },
  {
   "cell_type": "code",
   "execution_count": null,
   "metadata": {},
   "outputs": [],
   "source": [
    "df = pd.read_csv('roots.csv')\n",
    "df.head()"
   ]
  },
  {
   "cell_type": "code",
   "execution_count": null,
   "metadata": {},
   "outputs": [],
   "source": [
    "moods = ['indicative']\n",
    "tenses = ['present', 'preterite', 'present_perfect', 'imperfect', 'future', 'past_perfect']"
   ]
  },
  {
   "cell_type": "code",
   "execution_count": null,
   "metadata": {},
   "outputs": [],
   "source": [
    "for index, row in df.iterrows():\n",
    "    verb = row['root']\n",
    "    for mood in moods:\n",
    "        for tense in tenses:\n",
    "            _dict = Conjugator().conjugate(verb, tense, mood)\n",
    "            try:\n",
    "                df.at[index, '{}_{}_{}'.format(mood, tense, '2p_s')] = _dict['tu'].encode('iso8859-15').decode('utf-8')\n",
    "                df.at[index, '{}_{}_{}'.format(mood, tense, '1p_s')] = _dict['yo'].encode('iso8859-15').decode('utf-8')\n",
    "                df.at[index, '{}_{}_{}'.format(mood, tense, '1p_p')] = _dict['nosotros'].encode('iso8859-15').decode('utf-8')\n",
    "            except:\n",
    "                logging.warning(\"Verb [%s] Mood %s Tense %s in except block\",verb, mood, tense)\n",
    "\n",
    "            \n",
    "            try:\n",
    "                df.at[index, '{}_{}_{}'.format(mood, tense, '3p_s')] = _dict['el/ella/usted'].encode('iso8859-15').decode('utf-8')\n",
    "            except:\n",
    "                logging.warning(\"Verb [%s] Mood %s Tense %s in usted except block\",verb, mood, tense)\n",
    "                df.at[index, '{}_{}_{}'.format(mood, tense, '3p_s')] = _dict['usted'].encode('iso8859-15').decode('utf-8')\n",
    "            try:\n",
    "                df.at[index, '{}_{}_{}'.format(mood, tense, '3p_p')] = _dict['ellos/ellas/ustedes'].encode('iso8859-15').decode('utf-8')\n",
    "            except:\n",
    "                logging.warning(\"Verb [%s] Mood %s Tense %s in ustedes except block\",verb, mood, tense)\n",
    "                df.at[index, '{}_{}_{}'.format(mood, tense, '3p_p')] = _dict['ustedes'].encode('iso8859-15').decode('utf-8')\n",
    "            "
   ]
  },
  {
   "cell_type": "code",
   "execution_count": null,
   "metadata": {},
   "outputs": [],
   "source": [
    "df.to_csv('verbs-all.csv', encoding='utf-8', index=False)"
   ]
  },
  {
   "cell_type": "code",
   "execution_count": null,
   "metadata": {},
   "outputs": [],
   "source": [
    "df_2 = pd.read_csv('verbs-all.csv', engine='python', encoding='utf-8')\n",
    "df_2.head(3)"
   ]
  },
  {
   "cell_type": "code",
   "execution_count": null,
   "metadata": {},
   "outputs": [],
   "source": [
    "df_2.iloc[109,]"
   ]
  }
 ],
 "metadata": {
  "kernelspec": {
   "display_name": "Python 3",
   "language": "python",
   "name": "python3"
  },
  "language_info": {
   "codemirror_mode": {
    "name": "ipython",
    "version": 3
   },
   "file_extension": ".py",
   "mimetype": "text/x-python",
   "name": "python",
   "nbconvert_exporter": "python",
   "pygments_lexer": "ipython3",
   "version": "3.8.2"
  }
 },
 "nbformat": 4,
 "nbformat_minor": 4
}
