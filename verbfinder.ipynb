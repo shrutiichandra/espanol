{
 "cells": [
  {
   "cell_type": "code",
   "execution_count": null,
   "metadata": {},
   "outputs": [],
   "source": [
    "folder = \"sentences/\"\n",
    "filename = \"newhome\"\n",
    "filetoread = '{}{}.txt'.format(folder,filename)\n",
    "sentences_list = []\n",
    "with open(filetoread, 'r', encoding='utf-8') as f:\n",
    "    sentences_list = f.readlines()"
   ]
  },
  {
   "cell_type": "code",
   "execution_count": null,
   "metadata": {},
   "outputs": [],
   "source": [
    "import pandas as pd\n",
    "import re\n",
    "import numpy as np\n",
    "import logging"
   ]
  },
  {
   "cell_type": "code",
   "execution_count": null,
   "metadata": {},
   "outputs": [],
   "source": [
    "logging.basicConfig(level=logging.ERROR)"
   ]
  },
  {
   "cell_type": "code",
   "execution_count": null,
   "metadata": {},
   "outputs": [],
   "source": [
    "df = pd.read_csv('verbs-all-new.csv', engine='python', encoding='utf-8')\n",
    "df = df.replace(np.nan, '', regex=True)"
   ]
  },
  {
   "cell_type": "code",
   "execution_count": null,
   "metadata": {
    "scrolled": false
   },
   "outputs": [],
   "source": [
    "df.head()"
   ]
  },
  {
   "cell_type": "code",
   "execution_count": null,
   "metadata": {},
   "outputs": [],
   "source": [
    "df[df[\"root\"]== \"tener\"].iloc[0]"
   ]
  },
  {
   "cell_type": "code",
   "execution_count": null,
   "metadata": {},
   "outputs": [],
   "source": [
    "df.iloc[6]"
   ]
  },
  {
   "cell_type": "code",
   "execution_count": null,
   "metadata": {
    "scrolled": true
   },
   "outputs": [],
   "source": [
    "haber_present = df[df['root']=='haber'].iloc[:,1:6].to_numpy().flatten().tolist()"
   ]
  },
  {
   "cell_type": "code",
   "execution_count": null,
   "metadata": {},
   "outputs": [],
   "source": [
    "def removeEmpty(lis):\n",
    "    return list(filter(None, lis))"
   ]
  },
  {
   "cell_type": "code",
   "execution_count": null,
   "metadata": {},
   "outputs": [],
   "source": [
    "def fetchVerbs(tense, df):\n",
    "    tense_list = df.filter(regex=(\"{}.*\".format(tense))).to_numpy().flatten().tolist()\n",
    "    tense_list = removeEmpty(tense_list)\n",
    "    return tense_list"
   ]
  },
  {
   "cell_type": "code",
   "execution_count": null,
   "metadata": {},
   "outputs": [],
   "source": [
    "estar_present = fetchVerbs(\"indicative_present\", df[df['root']=='estar'])\n",
    "estar_preterite = fetchVerbs(\"indicative_preterite\", df[df['root']=='estar'])\n",
    "estar_imperfect = fetchVerbs(\"indicative_imperfect\", df[df['root']=='estar'])"
   ]
  },
  {
   "cell_type": "code",
   "execution_count": null,
   "metadata": {},
   "outputs": [],
   "source": [
    "moods = ['indicative', 'perfect']\n",
    "tenses = ['present', 'preterite', 'imperfect', 'conditional', 'future', 'past']"
   ]
  },
  {
   "cell_type": "code",
   "execution_count": null,
   "metadata": {},
   "outputs": [],
   "source": [
    "import itertools\n",
    "names = list(map('_'.join, itertools.product(moods, tenses)))"
   ]
  },
  {
   "cell_type": "code",
   "execution_count": null,
   "metadata": {},
   "outputs": [],
   "source": [
    "for i, item in enumerate(names, start=0):\n",
    "    print(i,item)"
   ]
  },
  {
   "cell_type": "code",
   "execution_count": null,
   "metadata": {},
   "outputs": [],
   "source": [
    "conjugationMap = {}\n",
    "for i in names:\n",
    "    conjugationMap[i] = fetchVerbs(i, df)\n",
    "\n",
    "conjugationMap.keys()"
   ]
  },
  {
   "cell_type": "code",
   "execution_count": null,
   "metadata": {},
   "outputs": [],
   "source": [
    "df = df[df['root']!='haber']"
   ]
  },
  {
   "cell_type": "code",
   "execution_count": null,
   "metadata": {},
   "outputs": [],
   "source": [
    "f = open('{}.html'.format(filename),'w')"
   ]
  },
  {
   "cell_type": "code",
   "execution_count": null,
   "metadata": {},
   "outputs": [],
   "source": [
    "notdone = [True]*len(sentences_list)"
   ]
  },
  {
   "cell_type": "code",
   "execution_count": null,
   "metadata": {},
   "outputs": [],
   "source": [
    "TAG_RE = re.compile(r'<[^>]+>')\n",
    "\n",
    "def remove_tags(text):\n",
    "    return TAG_RE.sub('', text)"
   ]
  },
  {
   "cell_type": "code",
   "execution_count": null,
   "metadata": {},
   "outputs": [],
   "source": [
    "def doFormatting(sentence, start, end, color):\n",
    "    sentence = sentence[:start] + \"<b style=\\\"color:{};\\\">\".format(color) + sentence[start:end] + \"</b>\" + sentence[end:]\n",
    "    logging.debug(\"Sentence doFormatting [%s]\", sentence)\n",
    "    return sentence"
   ]
  },
  {
   "cell_type": "code",
   "execution_count": null,
   "metadata": {},
   "outputs": [],
   "source": [
    "def isDone(sentence):\n",
    "    if \"</b>\" in sentence:\n",
    "        return True\n",
    "    return False"
   ]
  },
  {
   "cell_type": "code",
   "execution_count": null,
   "metadata": {},
   "outputs": [],
   "source": [
    "def findTense(verbList, sentence, color):\n",
    "    formattedSentence = sentence\n",
    "    logging.debug(\"verbList in findTense(): [%s]\", verbList)\n",
    "    for one_verb in verbList:\n",
    "        logging.debug(\"verb in findtense(): [%s]\", one_verb)\n",
    "        a = re.search(r'\\b({})\\b'.format(one_verb), formattedSentence.lower(),  re.UNICODE)\n",
    "        \n",
    "        if (a is not None):\n",
    "            logging.debug(\"Found match [%s] verb [%s]\", a, one_verb)\n",
    "            formattedSentence = doFormatting(formattedSentence, a.start(), a.end(), color)\n",
    "            logging.debug(\"Formatted sentence [%s]\", formattedSentence)\n",
    "    return formattedSentence"
   ]
  },
  {
   "cell_type": "code",
   "execution_count": null,
   "metadata": {},
   "outputs": [],
   "source": [
    "import cssmaker\n",
    "cssmaker.do()"
   ]
  },
  {
   "cell_type": "code",
   "execution_count": null,
   "metadata": {},
   "outputs": [],
   "source": [
    "tense, color = cssmaker.getTenseColor()"
   ]
  },
  {
   "cell_type": "code",
   "execution_count": null,
   "metadata": {},
   "outputs": [],
   "source": [
    "colormaphex = dict(zip(tense, color))\n",
    "colormaphex"
   ]
  },
  {
   "cell_type": "markdown",
   "metadata": {},
   "source": [
    "https://www.w3schools.com/colors/colors_names.asp"
   ]
  },
  {
   "cell_type": "code",
   "execution_count": null,
   "metadata": {},
   "outputs": [],
   "source": [
    "with open('tabl2.html', 'r') as file:\n",
    "    message = file.read().replace('\\n', '')"
   ]
  },
  {
   "cell_type": "code",
   "execution_count": null,
   "metadata": {},
   "outputs": [],
   "source": [
    "# sentences_list = [\" Sí, yo he amado a mi esposa desde ese día. \"]"
   ]
  },
  {
   "cell_type": "code",
   "execution_count": null,
   "metadata": {
    "scrolled": true
   },
   "outputs": [],
   "source": [
    "estar_preterite"
   ]
  },
  {
   "cell_type": "code",
   "execution_count": null,
   "metadata": {},
   "outputs": [],
   "source": [
    "for i in range(len(sentences_list)):\n",
    "    one_sentence = sentences_list[i]\n",
    "    # check for -ndo ending\n",
    "    # progressive +ndo\n",
    "    ending_in_ndo = re.search(r'\\b(\\w+)\\s(\\w+ndo)\\b', one_sentence.lower(),  re.UNICODE)\n",
    "    ending_in_iado = re.search(r'\\b(\\w+)\\s(\\w+[ia]do)\\b', one_sentence.lower(),  re.UNICODE)\n",
    "    if ending_in_ndo is not None:\n",
    "        logging.debug(\"ending_in_ndo: {%s} | {%s}\", ending_in_ndo.group(1), ending_in_ndo.group(2))\n",
    "        #check the previous word\n",
    "        start = ending_in_ndo.start()\n",
    "        end = ending_in_ndo.end()\n",
    "        if ending_in_ndo.group(1) in estar_present:\n",
    "            one_sentence = doFormatting(one_sentence, start, end, colormaphex[\"#ipresent\"])\n",
    "        elif ending_in_ndo.group(1) in estar_preterite:\n",
    "            one_sentence = doFormatting(one_sentence, start, end, colormaphex[\"#ipreterite\"])\n",
    "\n",
    "        elif ending_in_ndo.group(1) in estar_imperfect:\n",
    "            one_sentence = doFormatting(one_sentence, start, end, colormaphex[\"#iimperfect\"])\n",
    "#         else:\n",
    "#             one_sentence = doFormatting(one_sentence, one_sentence.index(ending_in_ndo.group(2)),\\\n",
    "#                                       one_sentence.index(ending_in_ndo.group(2))+len(ending_in_ndo.group(2)) , \\\n",
    "#                                         dict_[\"indicative_progressive_imperfect\"])\n",
    "    \n",
    "    one_sentence = findTense(conjugationMap[\"indicative_present\"], one_sentence, colormaphex[\"#ipresent\"])\n",
    "    one_sentence = findTense(conjugationMap[\"indicative_preterite\"], one_sentence, colormaphex[\"#ipreterite\"])\n",
    "    one_sentence = findTense(conjugationMap[\"indicative_imperfect\"], one_sentence, colormaphex[\"#iimperfect\"])\n",
    "    one_sentence = findTense(conjugationMap[\"indicative_conditional\"], one_sentence, colormaphex[\"#iconditional\"])\n",
    "    one_sentence = findTense(conjugationMap[\"indicative_future\"], one_sentence, colormaphex[\"#ifuture\"])\n",
    "    \n",
    "    one_sentence = findTense(conjugationMap[\"perfect_present\"], one_sentence, colormaphex[\"#ppresent\"])\n",
    "\n",
    "    logging.debug(\"ending_in_iado: [%s]\", ending_in_iado)\n",
    "    \n",
    "    if ending_in_iado is not None:\n",
    "        one_sentence = remove_tags(one_sentence)\n",
    "        logging.debug(\"ending_in_iado {%s} | {%s}\", ending_in_iado.group(1), ending_in_iado.group(2))\n",
    "        start = ending_in_iado.start()\n",
    "        end = ending_in_iado.end()\n",
    "        if ending_in_iado.group(1) in estar_present:\n",
    "            one_sentence = doFormatting(one_sentence,start, end, colormaphex[\"#ppresent\"])\n",
    "        elif ending_in_iado.group(1) in estar_preterite:\n",
    "            one_sentence = doFormatting(one_sentence, start, end, colormaphex[\"#ipreterite\"])\n",
    "\n",
    "        elif ending_in_iado.group(1) in estar_imperfect:\n",
    "            one_sentence = doFormatting(one_sentence, start, end, colormaphex[\"#ipreterite\"])\n",
    "        elif ending_in_iado.group(1) in haber_present:\n",
    "            one_sentence = doFormatting(one_sentence, start, end, colormaphex[\"#ppresent\"])\n",
    "\n",
    "    \n",
    "    formated = one_sentence + \"<br/>\"\n",
    "    message += formated"
   ]
  },
  {
   "cell_type": "code",
   "execution_count": null,
   "metadata": {},
   "outputs": [],
   "source": [
    "message += \"</p></body></html>\""
   ]
  },
  {
   "cell_type": "code",
   "execution_count": null,
   "metadata": {},
   "outputs": [],
   "source": [
    "f.write(message)\n",
    "f.close()"
   ]
  }
 ],
 "metadata": {
  "kernelspec": {
   "display_name": "Python 3",
   "language": "python",
   "name": "python3"
  },
  "language_info": {
   "codemirror_mode": {
    "name": "ipython",
    "version": 3
   },
   "file_extension": ".py",
   "mimetype": "text/x-python",
   "name": "python",
   "nbconvert_exporter": "python",
   "pygments_lexer": "ipython3",
   "version": "3.8.2"
  }
 },
 "nbformat": 4,
 "nbformat_minor": 4
}
