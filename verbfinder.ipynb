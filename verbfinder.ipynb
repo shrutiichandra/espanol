{
 "cells": [
  {
   "cell_type": "code",
   "execution_count": 1,
   "metadata": {},
   "outputs": [],
   "source": [
    "folder = \"sentences/\"\n",
    "filename = \"summary-receta\"\n",
    "filetoread = '{}{}.txt'.format(folder,filename)\n",
    "sentences_list = []\n",
    "with open(filetoread, 'r', encoding='utf-8') as f:\n",
    "    sentences_list = f.readlines()"
   ]
  },
  {
   "cell_type": "code",
   "execution_count": 2,
   "metadata": {},
   "outputs": [],
   "source": [
    "import pandas as pd\n",
    "import re\n",
    "import numpy as np\n",
    "import logging"
   ]
  },
  {
   "cell_type": "code",
   "execution_count": 3,
   "metadata": {},
   "outputs": [],
   "source": [
    "logging.basicConfig(level=logging.ERROR)"
   ]
  },
  {
   "cell_type": "code",
   "execution_count": 4,
   "metadata": {},
   "outputs": [],
   "source": [
    "df = pd.read_csv('verbs-all-new.csv', engine='python', encoding='utf-8')\n",
    "df = df.replace(np.nan, '', regex=True)"
   ]
  },
  {
   "cell_type": "code",
   "execution_count": 5,
   "metadata": {
    "scrolled": true
   },
   "outputs": [
    {
     "data": {
      "text/html": [
       "<div>\n",
       "<style scoped>\n",
       "    .dataframe tbody tr th:only-of-type {\n",
       "        vertical-align: middle;\n",
       "    }\n",
       "\n",
       "    .dataframe tbody tr th {\n",
       "        vertical-align: top;\n",
       "    }\n",
       "\n",
       "    .dataframe thead th {\n",
       "        text-align: right;\n",
       "    }\n",
       "</style>\n",
       "<table border=\"1\" class=\"dataframe\">\n",
       "  <thead>\n",
       "    <tr style=\"text-align: right;\">\n",
       "      <th></th>\n",
       "      <th>root</th>\n",
       "      <th>indicative_present_2p_s</th>\n",
       "      <th>indicative_present_1p_s</th>\n",
       "      <th>indicative_present_1p_p</th>\n",
       "      <th>indicative_present_3p_s</th>\n",
       "      <th>indicative_present_3p_p</th>\n",
       "      <th>indicative_preterite_2p_s</th>\n",
       "      <th>indicative_preterite_1p_s</th>\n",
       "      <th>indicative_preterite_1p_p</th>\n",
       "      <th>indicative_preterite_3p_s</th>\n",
       "      <th>...</th>\n",
       "      <th>perfect_present_2p_s</th>\n",
       "      <th>perfect_present_1p_s</th>\n",
       "      <th>perfect_present_1p_p</th>\n",
       "      <th>perfect_present_3p_s</th>\n",
       "      <th>perfect_present_3p_p</th>\n",
       "      <th>perfect_past_2p_s</th>\n",
       "      <th>perfect_past_1p_s</th>\n",
       "      <th>perfect_past_1p_p</th>\n",
       "      <th>perfect_past_3p_s</th>\n",
       "      <th>perfect_past_3p_p</th>\n",
       "    </tr>\n",
       "  </thead>\n",
       "  <tbody>\n",
       "    <tr>\n",
       "      <th>0</th>\n",
       "      <td>ser</td>\n",
       "      <td>eres</td>\n",
       "      <td>soy</td>\n",
       "      <td>somos</td>\n",
       "      <td>es</td>\n",
       "      <td>son</td>\n",
       "      <td>fuiste</td>\n",
       "      <td>fui</td>\n",
       "      <td>fuimos</td>\n",
       "      <td>fue</td>\n",
       "      <td>...</td>\n",
       "      <td>has sido</td>\n",
       "      <td>he sido</td>\n",
       "      <td>hemos sido</td>\n",
       "      <td>ha sido</td>\n",
       "      <td>han sido</td>\n",
       "      <td>habías sido</td>\n",
       "      <td>había sido</td>\n",
       "      <td>habíamos sido</td>\n",
       "      <td>había sido</td>\n",
       "      <td>habían sido</td>\n",
       "    </tr>\n",
       "    <tr>\n",
       "      <th>1</th>\n",
       "      <td>ver</td>\n",
       "      <td>ves</td>\n",
       "      <td>veo</td>\n",
       "      <td>vemos</td>\n",
       "      <td>ve</td>\n",
       "      <td>ven</td>\n",
       "      <td>viste</td>\n",
       "      <td>vi</td>\n",
       "      <td>vimos</td>\n",
       "      <td>vio</td>\n",
       "      <td>...</td>\n",
       "      <td>has visto</td>\n",
       "      <td>he visto</td>\n",
       "      <td>hemos visto</td>\n",
       "      <td>ha visto</td>\n",
       "      <td>han visto</td>\n",
       "      <td>habías visto</td>\n",
       "      <td>había visto</td>\n",
       "      <td>habíamos visto</td>\n",
       "      <td>había visto</td>\n",
       "      <td>habían visto</td>\n",
       "    </tr>\n",
       "    <tr>\n",
       "      <th>2</th>\n",
       "      <td>venir</td>\n",
       "      <td>vienes</td>\n",
       "      <td>vengo</td>\n",
       "      <td>venimos</td>\n",
       "      <td>viene</td>\n",
       "      <td>vienen</td>\n",
       "      <td>viniste</td>\n",
       "      <td>vine</td>\n",
       "      <td>vinimos</td>\n",
       "      <td>vino</td>\n",
       "      <td>...</td>\n",
       "      <td>has venido</td>\n",
       "      <td>he venido</td>\n",
       "      <td>hemos venido</td>\n",
       "      <td>ha venido</td>\n",
       "      <td>han venido</td>\n",
       "      <td>habías venido</td>\n",
       "      <td>había venido</td>\n",
       "      <td>habíamos venido</td>\n",
       "      <td>había venido</td>\n",
       "      <td>habían venido</td>\n",
       "    </tr>\n",
       "    <tr>\n",
       "      <th>3</th>\n",
       "      <td>ir</td>\n",
       "      <td>vas</td>\n",
       "      <td>voy</td>\n",
       "      <td>vamos</td>\n",
       "      <td>va</td>\n",
       "      <td>van</td>\n",
       "      <td>fuiste</td>\n",
       "      <td>fui</td>\n",
       "      <td>fuimos</td>\n",
       "      <td>fue</td>\n",
       "      <td>...</td>\n",
       "      <td>has ido</td>\n",
       "      <td>he ido</td>\n",
       "      <td>hemos ido</td>\n",
       "      <td>ha ido</td>\n",
       "      <td>han ido</td>\n",
       "      <td>habías ido</td>\n",
       "      <td>había ido</td>\n",
       "      <td>habíamos ido</td>\n",
       "      <td>había ido</td>\n",
       "      <td>habían ido</td>\n",
       "    </tr>\n",
       "    <tr>\n",
       "      <th>4</th>\n",
       "      <td>volver</td>\n",
       "      <td>vuelves</td>\n",
       "      <td>vuelvo</td>\n",
       "      <td>volvemos</td>\n",
       "      <td>vuelve</td>\n",
       "      <td>vuelven</td>\n",
       "      <td>volviste</td>\n",
       "      <td>volví</td>\n",
       "      <td>volvimos</td>\n",
       "      <td>volvió</td>\n",
       "      <td>...</td>\n",
       "      <td>has vuelto</td>\n",
       "      <td>he vuelto</td>\n",
       "      <td>hemos vuelto</td>\n",
       "      <td>ha vuelto</td>\n",
       "      <td>han vuelto</td>\n",
       "      <td>habías vuelto</td>\n",
       "      <td>había vuelto</td>\n",
       "      <td>habíamos vuelto</td>\n",
       "      <td>había vuelto</td>\n",
       "      <td>habían vuelto</td>\n",
       "    </tr>\n",
       "  </tbody>\n",
       "</table>\n",
       "<p>5 rows × 36 columns</p>\n",
       "</div>"
      ],
      "text/plain": [
       "     root indicative_present_2p_s indicative_present_1p_s  \\\n",
       "0     ser                    eres                     soy   \n",
       "1     ver                     ves                     veo   \n",
       "2   venir                  vienes                   vengo   \n",
       "3      ir                     vas                     voy   \n",
       "4  volver                 vuelves                  vuelvo   \n",
       "\n",
       "  indicative_present_1p_p indicative_present_3p_s indicative_present_3p_p  \\\n",
       "0                   somos                      es                     son   \n",
       "1                   vemos                      ve                     ven   \n",
       "2                 venimos                   viene                  vienen   \n",
       "3                   vamos                      va                     van   \n",
       "4                volvemos                  vuelve                 vuelven   \n",
       "\n",
       "  indicative_preterite_2p_s indicative_preterite_1p_s  \\\n",
       "0                    fuiste                       fui   \n",
       "1                     viste                        vi   \n",
       "2                   viniste                      vine   \n",
       "3                    fuiste                       fui   \n",
       "4                  volviste                     volví   \n",
       "\n",
       "  indicative_preterite_1p_p indicative_preterite_3p_s  ...  \\\n",
       "0                    fuimos                       fue  ...   \n",
       "1                     vimos                       vio  ...   \n",
       "2                   vinimos                      vino  ...   \n",
       "3                    fuimos                       fue  ...   \n",
       "4                  volvimos                    volvió  ...   \n",
       "\n",
       "  perfect_present_2p_s perfect_present_1p_s perfect_present_1p_p  \\\n",
       "0             has sido              he sido           hemos sido   \n",
       "1            has visto             he visto          hemos visto   \n",
       "2           has venido            he venido         hemos venido   \n",
       "3              has ido               he ido            hemos ido   \n",
       "4           has vuelto            he vuelto         hemos vuelto   \n",
       "\n",
       "  perfect_present_3p_s perfect_present_3p_p perfect_past_2p_s  \\\n",
       "0              ha sido             han sido       habías sido   \n",
       "1             ha visto            han visto      habías visto   \n",
       "2            ha venido           han venido     habías venido   \n",
       "3               ha ido              han ido        habías ido   \n",
       "4            ha vuelto           han vuelto     habías vuelto   \n",
       "\n",
       "  perfect_past_1p_s perfect_past_1p_p perfect_past_3p_s perfect_past_3p_p  \n",
       "0        había sido     habíamos sido        había sido       habían sido  \n",
       "1       había visto    habíamos visto       había visto      habían visto  \n",
       "2      había venido   habíamos venido      había venido     habían venido  \n",
       "3         había ido      habíamos ido         había ido        habían ido  \n",
       "4      había vuelto   habíamos vuelto      había vuelto     habían vuelto  \n",
       "\n",
       "[5 rows x 36 columns]"
      ]
     },
     "execution_count": 5,
     "metadata": {},
     "output_type": "execute_result"
    }
   ],
   "source": [
    "df.head()"
   ]
  },
  {
   "cell_type": "code",
   "execution_count": 6,
   "metadata": {},
   "outputs": [
    {
     "data": {
      "text/plain": [
       "root                                     estar\n",
       "indicative_present_2p_s                  estás\n",
       "indicative_present_1p_s                  estoy\n",
       "indicative_present_1p_p                estamos\n",
       "indicative_present_3p_s                   está\n",
       "indicative_present_3p_p                  están\n",
       "indicative_preterite_2p_s            estuviste\n",
       "indicative_preterite_1p_s               estuve\n",
       "indicative_preterite_1p_p            estuvimos\n",
       "indicative_preterite_3p_s               estuvo\n",
       "indicative_preterite_3p_p           estuvieron\n",
       "indicative_imperfect_2p_s              estabas\n",
       "indicative_imperfect_1p_s               estaba\n",
       "indicative_imperfect_1p_p            estábamos\n",
       "indicative_imperfect_3p_s               estaba\n",
       "indicative_imperfect_3p_p              estaban\n",
       "indicative_conditional_2p_s           estarías\n",
       "indicative_conditional_1p_s            estaría\n",
       "indicative_conditional_1p_p         estaríamos\n",
       "indicative_conditional_3p_s            estaría\n",
       "indicative_conditional_3p_p           estarían\n",
       "indicative_future_2p_s                 estarás\n",
       "indicative_future_1p_s                  estaré\n",
       "indicative_future_1p_p               estaremos\n",
       "indicative_future_3p_s                  estará\n",
       "indicative_future_3p_p                 estarán\n",
       "perfect_present_2p_s                has estado\n",
       "perfect_present_1p_s                 he estado\n",
       "perfect_present_1p_p              hemos estado\n",
       "perfect_present_3p_s                 ha estado\n",
       "perfect_present_3p_p                han estado\n",
       "perfect_past_2p_s                habías estado\n",
       "perfect_past_1p_s                 había estado\n",
       "perfect_past_1p_p              habíamos estado\n",
       "perfect_past_3p_s                 había estado\n",
       "perfect_past_3p_p                habían estado\n",
       "Name: 6, dtype: object"
      ]
     },
     "execution_count": 6,
     "metadata": {},
     "output_type": "execute_result"
    }
   ],
   "source": [
    "df.iloc[6]"
   ]
  },
  {
   "cell_type": "code",
   "execution_count": 7,
   "metadata": {},
   "outputs": [],
   "source": [
    "def removeEmpty(lis):\n",
    "    return list(filter(None, lis))"
   ]
  },
  {
   "cell_type": "code",
   "execution_count": 8,
   "metadata": {},
   "outputs": [],
   "source": [
    "def fetchVerbs(tense, df):\n",
    "    tense_list = df.filter(regex=(\"{}.*\".format(tense))).to_numpy().flatten().tolist()\n",
    "    tense_list = removeEmpty(tense_list)\n",
    "    return tense_list"
   ]
  },
  {
   "cell_type": "code",
   "execution_count": 9,
   "metadata": {},
   "outputs": [],
   "source": [
    "moods = ['indicative', 'perfect']\n",
    "tenses = ['present', 'preterite', 'imperfect', 'conditional', 'future', 'past']"
   ]
  },
  {
   "cell_type": "code",
   "execution_count": 10,
   "metadata": {},
   "outputs": [],
   "source": [
    "import itertools\n",
    "names = list(map('_'.join, itertools.product(moods, tenses)))"
   ]
  },
  {
   "cell_type": "code",
   "execution_count": 11,
   "metadata": {},
   "outputs": [
    {
     "name": "stdout",
     "output_type": "stream",
     "text": [
      "0 indicative_present\n",
      "1 indicative_preterite\n",
      "2 indicative_imperfect\n",
      "3 indicative_conditional\n",
      "4 indicative_future\n",
      "5 indicative_past\n",
      "6 perfect_present\n",
      "7 perfect_preterite\n",
      "8 perfect_imperfect\n",
      "9 perfect_conditional\n",
      "10 perfect_future\n",
      "11 perfect_past\n"
     ]
    }
   ],
   "source": [
    "for i, item in enumerate(names, start=0):\n",
    "    print(i,item)"
   ]
  },
  {
   "cell_type": "code",
   "execution_count": 12,
   "metadata": {},
   "outputs": [
    {
     "data": {
      "text/plain": [
       "dict_keys(['indicative_present', 'indicative_preterite', 'indicative_imperfect', 'indicative_conditional', 'indicative_future', 'indicative_past', 'perfect_present', 'perfect_preterite', 'perfect_imperfect', 'perfect_conditional', 'perfect_future', 'perfect_past'])"
      ]
     },
     "execution_count": 12,
     "metadata": {},
     "output_type": "execute_result"
    }
   ],
   "source": [
    "conjugationMap = {}\n",
    "for i in names:\n",
    "    conjugationMap[i] = fetchVerbs(i, df)\n",
    "\n",
    "conjugationMap.keys()"
   ]
  },
  {
   "cell_type": "code",
   "execution_count": 13,
   "metadata": {},
   "outputs": [],
   "source": [
    "haber_present = df[df['root']=='haber'].iloc[:,1:6].to_numpy().flatten().tolist()\n",
    "estar_present = fetchVerbs(\"indicative_present\", df[df['root']=='estar'])\n",
    "estar_preterite = fetchVerbs(\"indicative_preterite\", df[df['root']=='estar'])\n",
    "estar_imperfect = fetchVerbs(\"indicative_imperfect\", df[df['root']=='estar'])"
   ]
  },
  {
   "cell_type": "code",
   "execution_count": 14,
   "metadata": {},
   "outputs": [],
   "source": [
    "df = df[df['root']!='haber']"
   ]
  },
  {
   "cell_type": "code",
   "execution_count": 15,
   "metadata": {},
   "outputs": [],
   "source": [
    "f = open('{}.html'.format(filename),'w')"
   ]
  },
  {
   "cell_type": "code",
   "execution_count": 16,
   "metadata": {},
   "outputs": [],
   "source": [
    "notdone = [True]*len(sentences_list)"
   ]
  },
  {
   "cell_type": "code",
   "execution_count": 17,
   "metadata": {},
   "outputs": [],
   "source": [
    "def doFormatting(sentence, start, end, color):\n",
    "    sentence = sentence[:start] + \"<b style=\\\"color:{};\\\">\".format(color) + \\\n",
    "                   sentence[start:end] + \"</b>\" + sentence[end:]\n",
    "    return sentence"
   ]
  },
  {
   "cell_type": "code",
   "execution_count": 18,
   "metadata": {},
   "outputs": [],
   "source": [
    "def isDone(sentence):\n",
    "    if \"</b>\" in sentence:\n",
    "        return True\n",
    "    return False"
   ]
  },
  {
   "cell_type": "code",
   "execution_count": 19,
   "metadata": {},
   "outputs": [],
   "source": [
    "def findTense(verbList, sentence, color):\n",
    "    formattedSentence = sentence\n",
    "    for one_verb in verbList:\n",
    "        a = re.search(r'\\b({})\\b'.format(one_verb), formattedSentence.lower(),  re.UNICODE)\n",
    "        \n",
    "        if (a is not None):\n",
    "            logging.debug(\"Found match [%s] verb [%s]\", a, one_verb)\n",
    "            formattedSentence = doFormatting(formattedSentence, a.start(), a.end(), color)\n",
    "            logging.debug(\"Formatted sentence [%s]\", formattedSentence)\n",
    "    return formattedSentence"
   ]
  },
  {
   "cell_type": "code",
   "execution_count": 20,
   "metadata": {},
   "outputs": [],
   "source": [
    "import cssmaker\n",
    "cssmaker.do()"
   ]
  },
  {
   "cell_type": "code",
   "execution_count": 21,
   "metadata": {},
   "outputs": [],
   "source": [
    "tense, color = cssmaker.getTenseColor()"
   ]
  },
  {
   "cell_type": "code",
   "execution_count": 22,
   "metadata": {},
   "outputs": [
    {
     "data": {
      "text/plain": [
       "{'#pfuture': '#ffd9cc',\n",
       " '#pconditional': '#cccc99',\n",
       " '#pimperfect': '#ffff99',\n",
       " '#ppreterite': '#8cff66',\n",
       " '#ppresent': '#33ccff',\n",
       " '#sfuture': '#ff794d',\n",
       " '#sconditional': '#666633',\n",
       " '#simperfect': '#ffff00',\n",
       " '#spreterite': '#00ff00',\n",
       " '#spresent': '#0099cc',\n",
       " '#ifuture': '#cc3300',\n",
       " '#iconditional': '#333300',\n",
       " '#iimperfect': '#cccc00',\n",
       " '#ipreterite': '#339933',\n",
       " '#ipresent': '#003366'}"
      ]
     },
     "execution_count": 22,
     "metadata": {},
     "output_type": "execute_result"
    }
   ],
   "source": [
    "colormaphex = dict(zip(tense, color))\n",
    "colormaphex"
   ]
  },
  {
   "cell_type": "markdown",
   "metadata": {},
   "source": [
    "https://www.w3schools.com/colors/colors_names.asp"
   ]
  },
  {
   "cell_type": "code",
   "execution_count": 23,
   "metadata": {},
   "outputs": [],
   "source": [
    "with open('tabl2.html', 'r') as file:\n",
    "    message = file.read().replace('\\n', '')"
   ]
  },
  {
   "cell_type": "code",
   "execution_count": 24,
   "metadata": {},
   "outputs": [],
   "source": [
    "# sentences_list = [\"Te estaba buscando \"]"
   ]
  },
  {
   "cell_type": "code",
   "execution_count": 25,
   "metadata": {},
   "outputs": [
    {
     "data": {
      "text/plain": [
       "['estuviste', 'estuve', 'estuvimos', 'estuvo', 'estuvieron']"
      ]
     },
     "execution_count": 25,
     "metadata": {},
     "output_type": "execute_result"
    }
   ],
   "source": [
    "estar_preterite"
   ]
  },
  {
   "cell_type": "code",
   "execution_count": 26,
   "metadata": {},
   "outputs": [
    {
     "name": "stdout",
     "output_type": "stream",
     "text": [
      "-----semana | cocinando\n"
     ]
    }
   ],
   "source": [
    "for i in range(len(sentences_list)):\n",
    "    one_sentence = sentences_list[i]\n",
    "    # check for -ndo ending\n",
    "    # progressive +ndo\n",
    "    ending_in_ndo = re.search(r'\\b(\\w+)\\s(\\w+ndo)\\b', one_sentence.lower(),  re.UNICODE)\n",
    "    ending_in_ido = re.search(r'\\b(\\w+)\\s(\\w+ido)\\b', one_sentence.lower(),  re.UNICODE)\n",
    "    if ending_in_ndo is not None:\n",
    "#         pass\n",
    "        print(\"-----{} | {}\".format(ending_in_ndo.group(1), ending_in_ndo.group(2)))\n",
    "        #check the previous word\n",
    "        if ending_in_ndo.group(1) in estar_present:\n",
    "            one_sentence = doFormatting(one_sentence, ending_in_ndo.start(), ending_in_ndo.end(), \\\n",
    "                                        colormaphex[\"#ipresent\"])\n",
    "        elif ending_in_ndo.group(1) in estar_preterite:\n",
    "            one_sentence = doFormatting(one_sentence, ending_in_ndo.start(), ending_in_ndo.end(), \\\n",
    "                                        colormaphex[\"#ipreterite\"])\n",
    "\n",
    "        elif ending_in_ndo.group(1) in estar_imperfect:\n",
    "            one_sentence = doFormatting(one_sentence, ending_in_ndo.start(), ending_in_ndo.end(), \\\n",
    "                                        colormaphex[\"#iimperfect\"])\n",
    "#         else:\n",
    "#             one_sentence = doFormatting(one_sentence, one_sentence.index(ending_in_ndo.group(2)),\\\n",
    "#                                       one_sentence.index(ending_in_ndo.group(2))+len(ending_in_ndo.group(2)) , \\\n",
    "#                                         dict_[\"indicative_progressive_imperfect\"])\n",
    "    \n",
    "    \n",
    "    \n",
    "#     one_sentence = findTense(indicative_present_perfect, one_sentence, dict_[\"indicative_present_perfect\"])\n",
    "    one_sentence = findTense(conjugationMap[\"indicative_present\"], one_sentence, colormaphex[\"#ipresent\"])\n",
    "    one_sentence = findTense(conjugationMap[\"indicative_preterite\"], one_sentence, colormaphex[\"#ipreterite\"])\n",
    "    one_sentence = findTense(conjugationMap[\"indicative_imperfect\"], one_sentence, colormaphex[\"#iimperfect\"])\n",
    "    one_sentence = findTense(conjugationMap[\"indicative_conditional\"], one_sentence, colormaphex[\"#iconditional\"])\n",
    "    one_sentence = findTense(conjugationMap[\"indicative_future\"], one_sentence, colormaphex[\"#ifuture\"])\n",
    "    one_sentence = findTense(conjugationMap[\"perfect_present\"], one_sentence, colormaphex[\"#ppresent\"])\n",
    "\n",
    "\n",
    "    if ending_in_ido is not None:\n",
    "         #check the previous word\n",
    "        if ending_in_ido.group(1) in estar_present:\n",
    "            pass\n",
    "#             one_sentence = doFormatting(one_sentence, ending_in_ido.start(), ending_in_ido.end(), \\\n",
    "#                                         colormaphex[\"indicative_present_perfect\"])\n",
    "        elif ending_in_ido.group(1) in estar_preterite:\n",
    "            pass\n",
    "#             one_sentence = doFormatting(one_sentence, ending_in_ido.start(),ending_in_ido.end(), \\\n",
    "#                                         colormaphex[\"indicative_preterite\"])\n",
    "\n",
    "        elif ending_in_ido.group(1) in estar_imperfect:\n",
    "            pass\n",
    "#             one_sentence = doFormatting(one_sentence, ending_in_ido.start(), ending_in_ido.end(), \\\n",
    "#                                         colormaphex[\"indicative_imperfect\"])\n",
    "\n",
    "    \n",
    "    formated = one_sentence + \"<br/>\"\n",
    "    message += formated"
   ]
  },
  {
   "cell_type": "code",
   "execution_count": 27,
   "metadata": {},
   "outputs": [],
   "source": [
    "message += \"</p></body></html>\""
   ]
  },
  {
   "cell_type": "code",
   "execution_count": 28,
   "metadata": {},
   "outputs": [],
   "source": [
    "f.write(message)\n",
    "f.close()"
   ]
  }
 ],
 "metadata": {
  "kernelspec": {
   "display_name": "Python 3",
   "language": "python",
   "name": "python3"
  },
  "language_info": {
   "codemirror_mode": {
    "name": "ipython",
    "version": 3
   },
   "file_extension": ".py",
   "mimetype": "text/x-python",
   "name": "python",
   "nbconvert_exporter": "python",
   "pygments_lexer": "ipython3",
   "version": "3.8.2"
  }
 },
 "nbformat": 4,
 "nbformat_minor": 4
}
