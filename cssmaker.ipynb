{
 "cells": [
  {
   "cell_type": "code",
   "execution_count": 1,
   "metadata": {},
   "outputs": [],
   "source": [
    "import pandas as pd"
   ]
  },
  {
   "cell_type": "code",
   "execution_count": 9,
   "metadata": {},
   "outputs": [],
   "source": [
    "def prepend(_list):\n",
    "    str = \"#\" + '{0}'\n",
    "    _list = list(map(str.format, _list))\n",
    "    return _list"
   ]
  },
  {
   "cell_type": "code",
   "execution_count": 26,
   "metadata": {},
   "outputs": [],
   "source": [
    "def getColumn(df, colName):\n",
    "    colList = df[colName].values\n",
    "    colList = prepend(colList)\n",
    "    return colList   "
   ]
  },
  {
   "cell_type": "code",
   "execution_count": 32,
   "metadata": {},
   "outputs": [],
   "source": [
    "def readCsv(file):\n",
    "    df = pd.read_csv(file)\n",
    "    return df"
   ]
  },
  {
   "cell_type": "code",
   "execution_count": 41,
   "metadata": {},
   "outputs": [],
   "source": [
    "def getTenseColor():\n",
    "    df = readCsv(\"colormap.csv\")\n",
    "    tense = getColumn(df, \"tense\")\n",
    "    color = getColumn(df, \"color\")\n",
    "    return tense, color\n"
   ]
  },
  {
   "cell_type": "code",
   "execution_count": 42,
   "metadata": {},
   "outputs": [
    {
     "data": {
      "text/plain": [
       "(['#pfuture',\n",
       "  '#pconditional',\n",
       "  '#pimperfect',\n",
       "  '#ppreterite',\n",
       "  '#ppresent',\n",
       "  '#sfuture',\n",
       "  '#sconditional',\n",
       "  '#simperfect',\n",
       "  '#spreterite',\n",
       "  '#spresent',\n",
       "  '#ifuture',\n",
       "  '#iconditional',\n",
       "  '#iimperfect',\n",
       "  '#ipreterite',\n",
       "  '#ipresent'],\n",
       " ['#ffd9cc',\n",
       "  '#cccc99',\n",
       "  '#ffff99',\n",
       "  '#8cff66',\n",
       "  '#33ccff',\n",
       "  '#ff794d',\n",
       "  '#666633',\n",
       "  '#ffff00',\n",
       "  '#00ff00',\n",
       "  '#0099cc',\n",
       "  '#cc3300',\n",
       "  '#333300',\n",
       "  '#cccc00',\n",
       "  '#339933',\n",
       "  '#003366'])"
      ]
     },
     "execution_count": 42,
     "metadata": {},
     "output_type": "execute_result"
    }
   ],
   "source": [
    "getTenseColor()"
   ]
  },
  {
   "cell_type": "code",
   "execution_count": 33,
   "metadata": {},
   "outputs": [],
   "source": [
    "def do():\n",
    "    df = readCsv(\"colormap.csv\")\n",
    "    tense_mood = getColumn(df, \"tense\")\n",
    "    colors = getColumn(df, \"color\")\n",
    "    css_content = \"\"\n",
    "    for tense, col in zip(tense_mood, colors):\n",
    "        css_content += tense + \"{ background: \" + col + \";}\\n\"\n",
    "    with open('colormap.css', 'w') as file:\n",
    "        file.write(css_content)"
   ]
  },
  {
   "cell_type": "code",
   "execution_count": 34,
   "metadata": {},
   "outputs": [],
   "source": [
    "if __name__ == \"__main__\":\n",
    "    do()"
   ]
  }
 ],
 "metadata": {
  "kernelspec": {
   "display_name": "Python 3",
   "language": "python",
   "name": "python3"
  },
  "language_info": {
   "codemirror_mode": {
    "name": "ipython",
    "version": 3
   },
   "file_extension": ".py",
   "mimetype": "text/x-python",
   "name": "python",
   "nbconvert_exporter": "python",
   "pygments_lexer": "ipython3",
   "version": "3.8.2"
  }
 },
 "nbformat": 4,
 "nbformat_minor": 4
}
