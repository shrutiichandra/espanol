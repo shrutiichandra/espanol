{
 "cells": [
  {
   "cell_type": "code",
   "execution_count": 1,
   "metadata": {},
   "outputs": [],
   "source": [
    "import pandas as pd\n",
    "import re\n",
    "import numpy as np\n",
    "# import webbrowser"
   ]
  },
  {
   "cell_type": "code",
   "execution_count": 2,
   "metadata": {},
   "outputs": [],
   "source": [
    "df = pd.read_csv('verbs.csv')\n",
    "df = df.replace(np.nan, '', regex=True)"
   ]
  },
  {
   "cell_type": "code",
   "execution_count": 3,
   "metadata": {
    "scrolled": false
   },
   "outputs": [
    {
     "data": {
      "text/html": [
       "<div>\n",
       "<style scoped>\n",
       "    .dataframe tbody tr th:only-of-type {\n",
       "        vertical-align: middle;\n",
       "    }\n",
       "\n",
       "    .dataframe tbody tr th {\n",
       "        vertical-align: top;\n",
       "    }\n",
       "\n",
       "    .dataframe thead th {\n",
       "        text-align: right;\n",
       "    }\n",
       "</style>\n",
       "<table border=\"1\" class=\"dataframe\">\n",
       "  <thead>\n",
       "    <tr style=\"text-align: right;\">\n",
       "      <th></th>\n",
       "      <th>root</th>\n",
       "      <th>IndicativePresent_3p_s</th>\n",
       "      <th>IndicativePresent_3p_p</th>\n",
       "      <th>IndicativePresent_2p_s</th>\n",
       "      <th>IndicativePresent_1p_s</th>\n",
       "      <th>IndicativePresent_1p_p</th>\n",
       "      <th>IndicativePreterite_3p_s</th>\n",
       "      <th>IndicativePreterite_3p_p</th>\n",
       "      <th>IndicativePreterite_2p_s</th>\n",
       "      <th>IndicativePreterite_1p_s</th>\n",
       "      <th>...</th>\n",
       "      <th>IndicativeImperfect_3p_s</th>\n",
       "      <th>IndicativeImperfect_3p_p</th>\n",
       "      <th>IndicativeImperfect_2p_s</th>\n",
       "      <th>IndicativeImperfect_1p_s</th>\n",
       "      <th>IndicativeImperfect_1p_p</th>\n",
       "      <th>IndicativeFuture_3p_s</th>\n",
       "      <th>IndicativeFuture_3p_p</th>\n",
       "      <th>IndicativeFuture_2p_s</th>\n",
       "      <th>IndicativeFuture_1p_s</th>\n",
       "      <th>IndicativeFuture_1p_p</th>\n",
       "    </tr>\n",
       "  </thead>\n",
       "  <tbody>\n",
       "    <tr>\n",
       "      <th>0</th>\n",
       "      <td>ser</td>\n",
       "      <td>es</td>\n",
       "      <td>son</td>\n",
       "      <td>eres</td>\n",
       "      <td>soy</td>\n",
       "      <td>somos</td>\n",
       "      <td>fue</td>\n",
       "      <td>fueron</td>\n",
       "      <td>fuiste</td>\n",
       "      <td>fui</td>\n",
       "      <td>...</td>\n",
       "      <td></td>\n",
       "      <td></td>\n",
       "      <td></td>\n",
       "      <td></td>\n",
       "      <td></td>\n",
       "      <td></td>\n",
       "      <td></td>\n",
       "      <td></td>\n",
       "      <td></td>\n",
       "      <td></td>\n",
       "    </tr>\n",
       "    <tr>\n",
       "      <th>1</th>\n",
       "      <td>ver</td>\n",
       "      <td>ve</td>\n",
       "      <td>ven</td>\n",
       "      <td>ves</td>\n",
       "      <td>veo</td>\n",
       "      <td>vemos</td>\n",
       "      <td>vio</td>\n",
       "      <td>vieron</td>\n",
       "      <td>viste</td>\n",
       "      <td>vi</td>\n",
       "      <td>...</td>\n",
       "      <td>veía</td>\n",
       "      <td>veían</td>\n",
       "      <td>veías</td>\n",
       "      <td>veía</td>\n",
       "      <td>veíamos</td>\n",
       "      <td></td>\n",
       "      <td></td>\n",
       "      <td></td>\n",
       "      <td></td>\n",
       "      <td></td>\n",
       "    </tr>\n",
       "    <tr>\n",
       "      <th>2</th>\n",
       "      <td>venir</td>\n",
       "      <td>viene</td>\n",
       "      <td>vienen</td>\n",
       "      <td>vienes</td>\n",
       "      <td>vengo</td>\n",
       "      <td>venimos</td>\n",
       "      <td>vino</td>\n",
       "      <td>vinieron</td>\n",
       "      <td>viniste</td>\n",
       "      <td>vine</td>\n",
       "      <td>...</td>\n",
       "      <td></td>\n",
       "      <td></td>\n",
       "      <td></td>\n",
       "      <td></td>\n",
       "      <td></td>\n",
       "      <td></td>\n",
       "      <td></td>\n",
       "      <td></td>\n",
       "      <td></td>\n",
       "      <td></td>\n",
       "    </tr>\n",
       "    <tr>\n",
       "      <th>3</th>\n",
       "      <td>ir</td>\n",
       "      <td>va</td>\n",
       "      <td>van</td>\n",
       "      <td>vas</td>\n",
       "      <td>voy</td>\n",
       "      <td>vamos</td>\n",
       "      <td>fue</td>\n",
       "      <td>fueron</td>\n",
       "      <td>fuiste</td>\n",
       "      <td>fui</td>\n",
       "      <td>...</td>\n",
       "      <td>iba</td>\n",
       "      <td>iban</td>\n",
       "      <td>ibas</td>\n",
       "      <td>iba</td>\n",
       "      <td>ibamos</td>\n",
       "      <td></td>\n",
       "      <td></td>\n",
       "      <td></td>\n",
       "      <td></td>\n",
       "      <td></td>\n",
       "    </tr>\n",
       "    <tr>\n",
       "      <th>4</th>\n",
       "      <td>volver</td>\n",
       "      <td>vuelve</td>\n",
       "      <td>vuelven</td>\n",
       "      <td>vuelves</td>\n",
       "      <td>vuelvo</td>\n",
       "      <td>volvemos</td>\n",
       "      <td>volviÃ³</td>\n",
       "      <td>volvieron</td>\n",
       "      <td>volviste</td>\n",
       "      <td>volvÃ­</td>\n",
       "      <td>...</td>\n",
       "      <td></td>\n",
       "      <td></td>\n",
       "      <td></td>\n",
       "      <td></td>\n",
       "      <td></td>\n",
       "      <td></td>\n",
       "      <td></td>\n",
       "      <td></td>\n",
       "      <td></td>\n",
       "      <td></td>\n",
       "    </tr>\n",
       "  </tbody>\n",
       "</table>\n",
       "<p>5 rows × 22 columns</p>\n",
       "</div>"
      ],
      "text/plain": [
       "     root IndicativePresent_3p_s IndicativePresent_3p_p  \\\n",
       "0     ser                     es                    son   \n",
       "1     ver                     ve                    ven   \n",
       "2   venir                  viene                 vienen   \n",
       "3      ir                     va                    van   \n",
       "4  volver                 vuelve                vuelven   \n",
       "\n",
       "  IndicativePresent_2p_s IndicativePresent_1p_s IndicativePresent_1p_p  \\\n",
       "0                   eres                    soy                  somos   \n",
       "1                    ves                    veo                  vemos   \n",
       "2                 vienes                  vengo                venimos   \n",
       "3                    vas                    voy                  vamos   \n",
       "4                vuelves                 vuelvo               volvemos   \n",
       "\n",
       "  IndicativePreterite_3p_s IndicativePreterite_3p_p IndicativePreterite_2p_s  \\\n",
       "0                      fue                   fueron                   fuiste   \n",
       "1                      vio                   vieron                    viste   \n",
       "2                     vino                 vinieron                  viniste   \n",
       "3                      fue                   fueron                   fuiste   \n",
       "4                  volviÃ³                volvieron                 volviste   \n",
       "\n",
       "  IndicativePreterite_1p_s  ... IndicativeImperfect_3p_s  \\\n",
       "0                      fui  ...                            \n",
       "1                       vi  ...                     veía   \n",
       "2                     vine  ...                            \n",
       "3                      fui  ...                      iba   \n",
       "4                   volvÃ­  ...                            \n",
       "\n",
       "  IndicativeImperfect_3p_p IndicativeImperfect_2p_s IndicativeImperfect_1p_s  \\\n",
       "0                                                                              \n",
       "1                    veían                    veías                     veía   \n",
       "2                                                                              \n",
       "3                     iban                     ibas                      iba   \n",
       "4                                                                              \n",
       "\n",
       "  IndicativeImperfect_1p_p IndicativeFuture_3p_s IndicativeFuture_3p_p  \\\n",
       "0                                                                        \n",
       "1                  veíamos                                               \n",
       "2                                                                        \n",
       "3                   ibamos                                               \n",
       "4                                                                        \n",
       "\n",
       "  IndicativeFuture_2p_s IndicativeFuture_1p_s IndicativeFuture_1p_p  \n",
       "0                                                                    \n",
       "1                                                                    \n",
       "2                                                                    \n",
       "3                                                                    \n",
       "4                                                                    \n",
       "\n",
       "[5 rows x 22 columns]"
      ]
     },
     "execution_count": 3,
     "metadata": {},
     "output_type": "execute_result"
    }
   ],
   "source": [
    "df.head()"
   ]
  },
  {
   "cell_type": "code",
   "execution_count": 4,
   "metadata": {
    "scrolled": true
   },
   "outputs": [
    {
     "data": {
      "text/plain": [
       "Index(['root', 'IndicativePresent_3p_s', 'IndicativePresent_3p_p',\n",
       "       'IndicativePresent_2p_s', 'IndicativePresent_1p_s',\n",
       "       'IndicativePresent_1p_p', 'IndicativePreterite_3p_s',\n",
       "       'IndicativePreterite_3p_p', 'IndicativePreterite_2p_s',\n",
       "       'IndicativePreterite_1p_s', 'IndicativePreterite_1p_p',\n",
       "       'PerfectPresent_3p_s', 'IndicativeImperfect_3p_s',\n",
       "       'IndicativeImperfect_3p_p', 'IndicativeImperfect_2p_s',\n",
       "       'IndicativeImperfect_1p_s', 'IndicativeImperfect_1p_p',\n",
       "       'IndicativeFuture_3p_s', 'IndicativeFuture_3p_p',\n",
       "       'IndicativeFuture_2p_s', 'IndicativeFuture_1p_s',\n",
       "       'IndicativeFuture_1p_p'],\n",
       "      dtype='object')"
      ]
     },
     "execution_count": 4,
     "metadata": {},
     "output_type": "execute_result"
    }
   ],
   "source": [
    "df.columns"
   ]
  },
  {
   "cell_type": "code",
   "execution_count": 5,
   "metadata": {},
   "outputs": [],
   "source": [
    "def removeEmpty(lis):\n",
    "    return list(filter(None, lis))"
   ]
  },
  {
   "cell_type": "code",
   "execution_count": 6,
   "metadata": {},
   "outputs": [],
   "source": [
    "def fetchVerbs(tense, df):\n",
    "    tense_list = df.filter(regex=(\"{}.*\".format(tense))).to_numpy().flatten().tolist()\n",
    "    tense_list = removeEmpty(tense_list)\n",
    "    return tense_list"
   ]
  },
  {
   "cell_type": "code",
   "execution_count": 7,
   "metadata": {},
   "outputs": [
    {
     "data": {
      "text/plain": [
       "['es', 'son', 'eres', 'soy', 'somos', 've']"
      ]
     },
     "execution_count": 7,
     "metadata": {},
     "output_type": "execute_result"
    }
   ],
   "source": [
    "present_list = fetchVerbs(\"IndicativePresent\", df)\n",
    "present_list[:6]"
   ]
  },
  {
   "cell_type": "code",
   "execution_count": 8,
   "metadata": {},
   "outputs": [
    {
     "data": {
      "text/plain": [
       "['veía', 'veían', 'veías']"
      ]
     },
     "execution_count": 8,
     "metadata": {},
     "output_type": "execute_result"
    }
   ],
   "source": [
    "imperfect_list = fetchVerbs(\"IndicativeImperfect\", df)\n",
    "imperfect_list[:3]"
   ]
  },
  {
   "cell_type": "code",
   "execution_count": 9,
   "metadata": {
    "scrolled": true
   },
   "outputs": [
    {
     "data": {
      "text/plain": [
       "['fue', 'fueron', 'fuiste']"
      ]
     },
     "execution_count": 9,
     "metadata": {},
     "output_type": "execute_result"
    }
   ],
   "source": [
    "past_list = fetchVerbs(\"IndicativePreterite\", df)\n",
    "past_list[:3]"
   ]
  },
  {
   "cell_type": "code",
   "execution_count": 10,
   "metadata": {},
   "outputs": [
    {
     "data": {
      "text/plain": [
       "['sido', 'estado', 'tenido', 'dicho']"
      ]
     },
     "execution_count": 10,
     "metadata": {},
     "output_type": "execute_result"
    }
   ],
   "source": [
    "perfect_present = fetchVerbs(\"PerfectPresent\", df)\n",
    "perfect_present[:4]"
   ]
  },
  {
   "cell_type": "code",
   "execution_count": 11,
   "metadata": {},
   "outputs": [
    {
     "data": {
      "text/plain": [
       "['tendrá', 'tendrán', 'tendrás', 'tendré']"
      ]
     },
     "execution_count": 11,
     "metadata": {},
     "output_type": "execute_result"
    }
   ],
   "source": [
    "future_list = fetchVerbs(\"IndicativeFuture\", df)\n",
    "future_list[:4]"
   ]
  },
  {
   "cell_type": "code",
   "execution_count": 12,
   "metadata": {},
   "outputs": [
    {
     "data": {
      "text/plain": [
       "['ha', 'han', 'has', 'he', 'hemos']"
      ]
     },
     "execution_count": 12,
     "metadata": {},
     "output_type": "execute_result"
    }
   ],
   "source": [
    "haber_present = df[df['root']=='haber'].iloc[:,1:6].to_numpy().flatten().tolist()\n",
    "haber_present"
   ]
  },
  {
   "cell_type": "code",
   "execution_count": 13,
   "metadata": {},
   "outputs": [],
   "source": [
    "filetoread = 'all.txt'\n",
    "sentences_list = []\n",
    "with open(filetoread, 'r', encoding='utf-8') as f:\n",
    "    sentences_list = f.readlines()"
   ]
  },
  {
   "cell_type": "code",
   "execution_count": 14,
   "metadata": {},
   "outputs": [
    {
     "data": {
      "text/plain": [
       "['Juan me prometió que leerá mi poema a la medianoche.\\n',\n",
       " 'Me prometió que no iba a fumar nunca más.\\n',\n",
       " 'Promete que te portarás bien a la hora de comer.\\n',\n",
       " 'Prometieron portarse bien pero no les creo.\\n']"
      ]
     },
     "execution_count": 14,
     "metadata": {},
     "output_type": "execute_result"
    }
   ],
   "source": [
    "sentences_list[:4]"
   ]
  },
  {
   "cell_type": "code",
   "execution_count": 15,
   "metadata": {},
   "outputs": [],
   "source": [
    "# sentences_list=[\"El fantasma me dijo que últimamente tiene pesadillas. \"]"
   ]
  },
  {
   "cell_type": "code",
   "execution_count": 16,
   "metadata": {},
   "outputs": [],
   "source": [
    "f = open('helloworld.html','w')"
   ]
  },
  {
   "cell_type": "code",
   "execution_count": 17,
   "metadata": {},
   "outputs": [],
   "source": [
    "notdone = [True]*len(sentences_list)"
   ]
  },
  {
   "cell_type": "code",
   "execution_count": 18,
   "metadata": {},
   "outputs": [],
   "source": [
    "def doFormatting(sentence, verbToFind, color):\n",
    "#     print(\"verb: {} sentence {}\".format(verbToFind, sentence))\n",
    "    a = re.search(r'\\b({})\\b'.format(verbToFind), sentence.lower(),  re.UNICODE)\n",
    "    if (a is not None):\n",
    "#         print(\"found match for {}\".format(verbToFind))\n",
    "        sentence = sentence[:a.start()] + \"<b style=\\\"color:{};\\\".>\".format(color) + \\\n",
    "                   sentence[a.start():a.end()] + \"</b>\" + sentence[a.end():]\n",
    "    return sentence"
   ]
  },
  {
   "cell_type": "code",
   "execution_count": 19,
   "metadata": {},
   "outputs": [],
   "source": [
    "def isDone(sentence):\n",
    "    if \"</b>\" in sentence:\n",
    "        return True\n",
    "    return False"
   ]
  },
  {
   "cell_type": "code",
   "execution_count": 20,
   "metadata": {},
   "outputs": [],
   "source": [
    "def findTense(verbList, sentence, color):\n",
    "    for one_verb in verbList:\n",
    "        sentence = doFormatting(sentence, one_verb, color)\n",
    "    return sentence"
   ]
  },
  {
   "cell_type": "code",
   "execution_count": 21,
   "metadata": {},
   "outputs": [],
   "source": [
    "dict_ = {\n",
    "  \"IndicativePresent\": [present_list, \"red\"],\n",
    "  \"IndicativePreterite\": [past_list, \"SlateBlue\"],\n",
    "  \"IndicativeImperfect\": [imperfect_list, \"Orange\"],\n",
    "  \"IndicativeFuture\": [future_list, \"Violet\"],\n",
    "  \"PerfectPresent\": [(haber_present, perfect_present), \"MediumSeaGreen\"]\n",
    "}"
   ]
  },
  {
   "cell_type": "code",
   "execution_count": 22,
   "metadata": {},
   "outputs": [],
   "source": [
    "message = \"\"\"<html>\n",
    "<head><title>Verbs Español </title></head>\n",
    "<body style=\"font-family:verdana;\">\n",
    "<p>Spanish</p>\n",
    "<ul>\n",
    "<li> <b style=\\\"color:{}\\\"> Indicative Present </b>\n",
    "<li> <b style=\\\"color:{}\\\"> Indicative Preterite </b>\n",
    "<li> <b style=\\\"color:{}\\\"> Indicative Imperfect</b>\n",
    "<li> <b style=\\\"color:{}\\\"> Indicative Future</b>\n",
    "<li> <b style=\\\"color:{}\\\"> Perfect Present </b>\n",
    "\n",
    "\n",
    "</ul>\n",
    "<ol>\n",
    "\"\"\".format(dict_[\"IndicativePresent\"][1], dict_[\"IndicativePreterite\"][1],\\\n",
    "           dict_[\"IndicativeImperfect\"][1], dict_[\"IndicativeFuture\"][1], dict_[\"PerfectPresent\"][1])\n",
    "\n",
    "\n",
    "for i in range(len(sentences_list)):\n",
    "    done = False\n",
    "    presPerfect = False\n",
    "    one_sentence = sentences_list[i]\n",
    "    one_sentence = findTense(dict_[\"PerfectPresent\"][0][0], one_sentence, dict_[\"PerfectPresent\"][1])\n",
    "    if isDone(one_sentence):\n",
    "        presPerfect = True\n",
    "    if presPerfect:\n",
    "        one_sentence = findTense(dict_[\"PerfectPresent\"][0][1], one_sentence, dict_[\"PerfectPresent\"][1])\n",
    "        if isDone(one_sentence):\n",
    "            presPerfect = True\n",
    "        else:\n",
    "            presPerfect = False\n",
    "    if not presPerfect:\n",
    "        one_sentence = findTense(dict_[\"IndicativePresent\"][0], one_sentence, dict_[\"IndicativePresent\"][1])\n",
    "        one_sentence = findTense(dict_[\"IndicativePreterite\"][0], one_sentence, dict_[\"IndicativePreterite\"][1])\n",
    "        one_sentence = findTense(dict_[\"IndicativeImperfect\"][0], one_sentence, dict_[\"IndicativeImperfect\"][1])\n",
    "        one_sentence = findTense(dict_[\"IndicativeFuture\"][0], one_sentence, dict_[\"IndicativeFuture\"][1])\n",
    "\n",
    "    if isDone(one_sentence):\n",
    "        formated = \"<li> \" + one_sentence + \"</li>\"\n",
    "        message += formated\n",
    "        notdone[i] = False"
   ]
  },
  {
   "cell_type": "code",
   "execution_count": 23,
   "metadata": {},
   "outputs": [],
   "source": [
    "result = np.array(sentences_list)[notdone] # mask a\n",
    "for i in range(len(result)):\n",
    "    formated = \"<li> \" + result[i] + \"</li>\"\n",
    "    message += formated\n",
    "message += \"</ol></body></html>\""
   ]
  },
  {
   "cell_type": "code",
   "execution_count": 24,
   "metadata": {},
   "outputs": [],
   "source": [
    "f.write(message)\n",
    "f.close()\n",
    "\n",
    "# webbrowser.open_new_tab('helloworld.html')"
   ]
  }
 ],
 "metadata": {
  "kernelspec": {
   "display_name": "Python 3",
   "language": "python",
   "name": "python3"
  },
  "language_info": {
   "codemirror_mode": {
    "name": "ipython",
    "version": 3
   },
   "file_extension": ".py",
   "mimetype": "text/x-python",
   "name": "python",
   "nbconvert_exporter": "python",
   "pygments_lexer": "ipython3",
   "version": "3.8.2"
  }
 },
 "nbformat": 4,
 "nbformat_minor": 4
}
