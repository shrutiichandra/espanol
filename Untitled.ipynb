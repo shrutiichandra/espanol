{
 "cells": [
  {
   "cell_type": "code",
   "execution_count": 31,
   "metadata": {},
   "outputs": [],
   "source": [
    "import pandas as pd\n",
    "import re\n",
    "import numpy as np\n",
    "# import webbrowser"
   ]
  },
  {
   "cell_type": "code",
   "execution_count": 13,
   "metadata": {},
   "outputs": [],
   "source": [
    "df = pd.read_csv('verbs.csv')"
   ]
  },
  {
   "cell_type": "code",
   "execution_count": 14,
   "metadata": {},
   "outputs": [
    {
     "data": {
      "text/html": [
       "<div>\n",
       "<style scoped>\n",
       "    .dataframe tbody tr th:only-of-type {\n",
       "        vertical-align: middle;\n",
       "    }\n",
       "\n",
       "    .dataframe tbody tr th {\n",
       "        vertical-align: top;\n",
       "    }\n",
       "\n",
       "    .dataframe thead th {\n",
       "        text-align: right;\n",
       "    }\n",
       "</style>\n",
       "<table border=\"1\" class=\"dataframe\">\n",
       "  <thead>\n",
       "    <tr style=\"text-align: right;\">\n",
       "      <th></th>\n",
       "      <th>root</th>\n",
       "      <th>IndicativePresent_3p_s</th>\n",
       "      <th>IndicativePresent_3p_p</th>\n",
       "      <th>IndicativePresent_2p_s</th>\n",
       "      <th>IndicativePresent_1p_s</th>\n",
       "      <th>IndicativePresent_1p_p</th>\n",
       "      <th>IndicativePretertite_3p_s</th>\n",
       "      <th>IndicativePretertite_3p_p</th>\n",
       "      <th>IndicativePretertite_2p_s</th>\n",
       "      <th>IndicativePreterite_1p_s</th>\n",
       "      <th>IndicativePreterite_1p_p</th>\n",
       "    </tr>\n",
       "  </thead>\n",
       "  <tbody>\n",
       "    <tr>\n",
       "      <th>0</th>\n",
       "      <td>ser</td>\n",
       "      <td>es</td>\n",
       "      <td>son</td>\n",
       "      <td>eres</td>\n",
       "      <td>soy</td>\n",
       "      <td>somos</td>\n",
       "      <td>fue</td>\n",
       "      <td>fueron</td>\n",
       "      <td>fuiste</td>\n",
       "      <td>fui</td>\n",
       "      <td>fuimos</td>\n",
       "    </tr>\n",
       "    <tr>\n",
       "      <th>1</th>\n",
       "      <td>ver</td>\n",
       "      <td>ve</td>\n",
       "      <td>ven</td>\n",
       "      <td>ves</td>\n",
       "      <td>veo</td>\n",
       "      <td>vemos</td>\n",
       "      <td>vio</td>\n",
       "      <td>vieron</td>\n",
       "      <td>viste</td>\n",
       "      <td>vi</td>\n",
       "      <td>vimos</td>\n",
       "    </tr>\n",
       "    <tr>\n",
       "      <th>2</th>\n",
       "      <td>venir</td>\n",
       "      <td>viene</td>\n",
       "      <td>vienen</td>\n",
       "      <td>vienes</td>\n",
       "      <td>vengo</td>\n",
       "      <td>venimos</td>\n",
       "      <td>vino</td>\n",
       "      <td>vinieron</td>\n",
       "      <td>viniste</td>\n",
       "      <td>vine</td>\n",
       "      <td>vinimos</td>\n",
       "    </tr>\n",
       "    <tr>\n",
       "      <th>3</th>\n",
       "      <td>ir</td>\n",
       "      <td>va</td>\n",
       "      <td>van</td>\n",
       "      <td>vas</td>\n",
       "      <td>voy</td>\n",
       "      <td>vamos</td>\n",
       "      <td>fue</td>\n",
       "      <td>fueron</td>\n",
       "      <td>fuiste</td>\n",
       "      <td>fui</td>\n",
       "      <td>fuimos</td>\n",
       "    </tr>\n",
       "    <tr>\n",
       "      <th>4</th>\n",
       "      <td>volver</td>\n",
       "      <td>vuelve</td>\n",
       "      <td>vuelven</td>\n",
       "      <td>vuelves</td>\n",
       "      <td>vuelvo</td>\n",
       "      <td>volvemos</td>\n",
       "      <td>volvio</td>\n",
       "      <td>volvieron</td>\n",
       "      <td>volviste</td>\n",
       "      <td>volvi</td>\n",
       "      <td>volvimos</td>\n",
       "    </tr>\n",
       "  </tbody>\n",
       "</table>\n",
       "</div>"
      ],
      "text/plain": [
       "     root IndicativePresent_3p_s IndicativePresent_3p_p  \\\n",
       "0     ser                     es                    son   \n",
       "1     ver                     ve                    ven   \n",
       "2   venir                  viene                 vienen   \n",
       "3      ir                     va                    van   \n",
       "4  volver                 vuelve                vuelven   \n",
       "\n",
       "  IndicativePresent_2p_s IndicativePresent_1p_s IndicativePresent_1p_p  \\\n",
       "0                   eres                    soy                  somos   \n",
       "1                    ves                    veo                  vemos   \n",
       "2                 vienes                  vengo                venimos   \n",
       "3                    vas                    voy                  vamos   \n",
       "4                vuelves                 vuelvo               volvemos   \n",
       "\n",
       "  IndicativePretertite_3p_s IndicativePretertite_3p_p  \\\n",
       "0                       fue                    fueron   \n",
       "1                       vio                    vieron   \n",
       "2                      vino                  vinieron   \n",
       "3                       fue                    fueron   \n",
       "4                    volvio                 volvieron   \n",
       "\n",
       "  IndicativePretertite_2p_s IndicativePreterite_1p_s IndicativePreterite_1p_p  \n",
       "0                    fuiste                      fui                   fuimos  \n",
       "1                     viste                       vi                    vimos  \n",
       "2                   viniste                     vine                  vinimos  \n",
       "3                    fuiste                      fui                   fuimos  \n",
       "4                  volviste                    volvi                 volvimos  "
      ]
     },
     "execution_count": 14,
     "metadata": {},
     "output_type": "execute_result"
    }
   ],
   "source": [
    "df.head()"
   ]
  },
  {
   "cell_type": "code",
   "execution_count": 18,
   "metadata": {},
   "outputs": [
    {
     "data": {
      "text/plain": [
       "['es', 'son', 'eres', 'soy', 'somos', 've']"
      ]
     },
     "execution_count": 18,
     "metadata": {},
     "output_type": "execute_result"
    }
   ],
   "source": [
    "present_list = df.iloc[:,1:6].to_numpy().flatten().tolist()\n",
    "present_list[:6]"
   ]
  },
  {
   "cell_type": "code",
   "execution_count": 19,
   "metadata": {},
   "outputs": [
    {
     "data": {
      "text/plain": [
       "['fue', 'fueron', 'fuiste', 'fui', 'fuimos', 'vio']"
      ]
     },
     "execution_count": 19,
     "metadata": {},
     "output_type": "execute_result"
    }
   ],
   "source": [
    "past_list = df.iloc[:,6:].to_numpy().flatten().tolist()\n",
    "past_list[:6]"
   ]
  },
  {
   "cell_type": "code",
   "execution_count": 23,
   "metadata": {},
   "outputs": [],
   "source": [
    "filetoread = 'sentences.txt'\n",
    "sentences_list = []\n",
    "with open(filetoread, 'r') as f:\n",
    "    sentences_list = f.readlines()"
   ]
  },
  {
   "cell_type": "code",
   "execution_count": 24,
   "metadata": {},
   "outputs": [
    {
     "data": {
      "text/plain": [
       "['Hoy me levanto a las ocho\\n',\n",
       " 'Yo vivo con mis abuelos\\n',\n",
       " 'Yo como pan y queso en la manana\\n',\n",
       " 'Quiero ver tu cara sin maquillaje.\\n']"
      ]
     },
     "execution_count": 24,
     "metadata": {},
     "output_type": "execute_result"
    }
   ],
   "source": [
    "sentences_list[:4]"
   ]
  },
  {
   "cell_type": "code",
   "execution_count": 25,
   "metadata": {},
   "outputs": [],
   "source": [
    "f = open('helloworld.html','w')"
   ]
  },
  {
   "cell_type": "code",
   "execution_count": 26,
   "metadata": {},
   "outputs": [],
   "source": [
    "notdone = [True]*len(sentences_list)"
   ]
  },
  {
   "cell_type": "code",
   "execution_count": 28,
   "metadata": {},
   "outputs": [],
   "source": [
    "message = \"\"\"<html>\n",
    "<head></head>\n",
    "<body><p>Spanish</p><ol>\n",
    "\"\"\"\n",
    "for i in range(len(sentences_list)):\n",
    "    done = False\n",
    "    one_sentence = sentences_list[i]\n",
    "    for one_verb in present_list:\n",
    "        a = re.search(r'\\b({})\\b'.format(one_verb), one_sentence.lower())\n",
    "        if (a is not None):\n",
    "            done = True\n",
    "            one_sentence = one_sentence[:a.start()] + \"<b style=\\\"color:red;\\\">\" + one_sentence[a.start():a.end()] + \"</b>\" + one_sentence[a.end():]\n",
    "    for one_verb in past_list:\n",
    "        a = re.search(r'\\b({})\\b'.format(one_verb), one_sentence.lower())\n",
    "        if (a is not None):\n",
    "            done = True\n",
    "            one_sentence = one_sentence[:a.start()] + \"<b style=\\\"color:green;\\\">\" + one_sentence[a.start():a.end()] + \"</b>\" + one_sentence[a.end():]\n",
    "    if (done):\n",
    "        formated = \"<li> \" + one_sentence + \"</li>\"\n",
    "        message += formated\n",
    "        notdone[i] = False\n",
    "# print(message)"
   ]
  },
  {
   "cell_type": "code",
   "execution_count": 29,
   "metadata": {},
   "outputs": [],
   "source": [
    "result = np.array(sentences_list)[notdone] # mask a\n",
    "for i in range(len(result)):\n",
    "    formated = \"<li> \" + result[i] + \"</li>\"\n",
    "    message += formated\n",
    "message += \"</ol></body></html>\""
   ]
  },
  {
   "cell_type": "code",
   "execution_count": 30,
   "metadata": {},
   "outputs": [
    {
     "data": {
      "text/plain": [
       "True"
      ]
     },
     "execution_count": 30,
     "metadata": {},
     "output_type": "execute_result"
    }
   ],
   "source": [
    "f.write(message)\n",
    "f.close()\n",
    "\n",
    "# webbrowser.open_new_tab('helloworld.html')"
   ]
  }
 ],
 "metadata": {
  "kernelspec": {
   "display_name": "Python 3",
   "language": "python",
   "name": "python3"
  },
  "language_info": {
   "codemirror_mode": {
    "name": "ipython",
    "version": 3
   },
   "file_extension": ".py",
   "mimetype": "text/x-python",
   "name": "python",
   "nbconvert_exporter": "python",
   "pygments_lexer": "ipython3",
   "version": "3.8.2"
  }
 },
 "nbformat": 4,
 "nbformat_minor": 4
}
